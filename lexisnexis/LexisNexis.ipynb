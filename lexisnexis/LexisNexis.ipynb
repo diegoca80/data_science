{
 "cells": [
  {
   "cell_type": "markdown",
   "metadata": {},
   "source": [
    "# Using Escolas Dataset and Pandas to analyse questions"
   ]
  },
  {
   "cell_type": "markdown",
   "metadata": {},
   "source": [
    "\n",
    "<table cellspacing=\"0\" cellpadding=\"0\">\n",
    "  <tr>\n",
    "    <td>\n",
    "        Diego Alves <br />\n",
    "        Software Engineer<br />\n",
    "        <link rel=\"stylesheet\" href=\"//maxcdn.bootstrapcdn.com/font-awesome/4.3.0/css/font-awesome.min.css\">\n",
    "        <i class=\"fa fa-google\"></i> &nbsp; <a href=\"mailto:diegocardalves@gmail.com\">Email</a><br />\n",
    "        <i class=\"fa fa-linkedin\"></i> &nbsp; <a href=\"https://www.linkedin.com/in/diegocardosoalves\">LinkedIn</a><br />\n",
    "        <i class=\"fa fa-github fa-lg\"></i> &nbsp; <a href=\"https://github.com/diegoca80/datascience\">Github</a><br />\n",
    "    </td>\n",
    "    <td>\n",
    "        <a href=\"https://www.linkedin.com/in/diegocardosoalves\" target=\"_blank\"><img src=\"http://i67.tinypic.com/1jn605.png\" border=\"0\" alt=\"Diego Alves\"></a>\n",
    "    </td>\n",
    "  </tr>\n",
    "</table>\n"
   ]
  },
  {
   "cell_type": "markdown",
   "metadata": {},
   "source": [
    "### Imports and jupyter notebook configs"
   ]
  },
  {
   "cell_type": "code",
   "execution_count": 24,
   "metadata": {
    "collapsed": false
   },
   "outputs": [
    {
     "data": {
      "text/html": [
       "<div>\n",
       "<table border=\"1\" class=\"dataframe\">\n",
       "  <thead>\n",
       "    <tr style=\"text-align: right;\">\n",
       "      <th></th>\n",
       "      <th>Designação</th>\n",
       "      <th>Nome</th>\n",
       "      <th>Logradouro</th>\n",
       "      <th>Bairro</th>\n",
       "      <th>Número</th>\n",
       "      <th>Complemento</th>\n",
       "      <th>CEP</th>\n",
       "      <th>IDEB 1º Segmento</th>\n",
       "      <th>IDEB 2º Segmento</th>\n",
       "      <th>Latitude</th>\n",
       "      <th>Longitude</th>\n",
       "      <th>Ginásio Carioca</th>\n",
       "      <th>Acessibilidade</th>\n",
       "      <th>Séries Atendidas</th>\n",
       "      <th>Turnos Atendidos</th>\n",
       "      <th>Ginásio Olímpico</th>\n",
       "      <th>Diretor</th>\n",
       "      <th>Telefone</th>\n",
       "      <th>INEP</th>\n",
       "      <th>Coordenador Pedagógico</th>\n",
       "    </tr>\n",
       "  </thead>\n",
       "  <tbody>\n",
       "    <tr>\n",
       "      <th>0</th>\n",
       "      <td>101001</td>\n",
       "      <td>VICENTE LICINIO CARDOSO</td>\n",
       "      <td>Rua Edgar Gordilho</td>\n",
       "      <td>Praça Mauá</td>\n",
       "      <td>63</td>\n",
       "      <td>NaN</td>\n",
       "      <td>20081-070</td>\n",
       "      <td>NaN</td>\n",
       "      <td>4.4</td>\n",
       "      <td>-22.896502</td>\n",
       "      <td>-43.183334</td>\n",
       "      <td>N</td>\n",
       "      <td>N</td>\n",
       "      <td>7º Ano/8º Ano/9º Ano/Classe Especial</td>\n",
       "      <td>NaN</td>\n",
       "      <td>N</td>\n",
       "      <td>NIVERTON DE AZEVEDO ANTUNES</td>\n",
       "      <td>2253-4643/2263-7200</td>\n",
       "      <td>33062501.0</td>\n",
       "      <td>INES GIESTA RESENDE</td>\n",
       "    </tr>\n",
       "    <tr>\n",
       "      <th>1</th>\n",
       "      <td>101003</td>\n",
       "      <td>DARCY VARGAS</td>\n",
       "      <td>Rua Souza e Silva</td>\n",
       "      <td>Saúde</td>\n",
       "      <td>112</td>\n",
       "      <td>NaN</td>\n",
       "      <td>20220-560</td>\n",
       "      <td>4.3</td>\n",
       "      <td>NaN</td>\n",
       "      <td>-22.895254</td>\n",
       "      <td>-43.188907</td>\n",
       "      <td>N</td>\n",
       "      <td>S</td>\n",
       "      <td>1º Ano/2º Ano/3º Ano/4º Ano/4º Ano - NCM/5º An...</td>\n",
       "      <td>NaN</td>\n",
       "      <td>N</td>\n",
       "      <td>CARLA SAMPAIO DE CASTRO E SILVA REIS</td>\n",
       "      <td>2233-0593/2233-0516</td>\n",
       "      <td>33062439.0</td>\n",
       "      <td>ANDREA DOS SANTOS SIMOES</td>\n",
       "    </tr>\n",
       "    <tr>\n",
       "      <th>2</th>\n",
       "      <td>101004</td>\n",
       "      <td>BENJAMIN CONSTANT</td>\n",
       "      <td>Pça. Marechal Hermes</td>\n",
       "      <td>Santo Cristo</td>\n",
       "      <td>S/Nº</td>\n",
       "      <td>NaN</td>\n",
       "      <td>20220-430</td>\n",
       "      <td>5.8</td>\n",
       "      <td>5.1</td>\n",
       "      <td>-22.899485</td>\n",
       "      <td>-43.205106</td>\n",
       "      <td>N</td>\n",
       "      <td>S</td>\n",
       "      <td>1º Ano/2º Ano/3º Ano/4º Ano/4º Ano - NCM/5º An...</td>\n",
       "      <td>NaN</td>\n",
       "      <td>N</td>\n",
       "      <td>ALECIA ALMEIDA DE OLIVEIRA</td>\n",
       "      <td>2263-3188/2233-1322</td>\n",
       "      <td>33062420.0</td>\n",
       "      <td>CINTIA CECI REZENDE NICOLAU</td>\n",
       "    </tr>\n",
       "    <tr>\n",
       "      <th>3</th>\n",
       "      <td>101005</td>\n",
       "      <td>GENERAL MITRE</td>\n",
       "      <td>Rua Farnese</td>\n",
       "      <td>Santo Cristo</td>\n",
       "      <td>39</td>\n",
       "      <td>NaN</td>\n",
       "      <td>20220-640</td>\n",
       "      <td>5.6</td>\n",
       "      <td>NaN</td>\n",
       "      <td>-22.904604</td>\n",
       "      <td>-43.202779</td>\n",
       "      <td>N</td>\n",
       "      <td>S</td>\n",
       "      <td>1º Ano/2º Ano/3º Ano/4º Ano/5º Ano/6º Ano/Pré-...</td>\n",
       "      <td>NaN</td>\n",
       "      <td>N</td>\n",
       "      <td>MARCELLE CRISTINE DIAS MENDES</td>\n",
       "      <td>2263-5478</td>\n",
       "      <td>33062455.0</td>\n",
       "      <td>ANA CLAUDIA MARQUES DE SOUZA E SILVA</td>\n",
       "    </tr>\n",
       "    <tr>\n",
       "      <th>4</th>\n",
       "      <td>101006</td>\n",
       "      <td>FRANCISCO BENJAMIM GALLOTI</td>\n",
       "      <td>Rua da América</td>\n",
       "      <td>Santo Cristo</td>\n",
       "      <td>81</td>\n",
       "      <td>NaN</td>\n",
       "      <td>20220-010</td>\n",
       "      <td>4.4</td>\n",
       "      <td>NaN</td>\n",
       "      <td>-22.900868</td>\n",
       "      <td>-43.199464</td>\n",
       "      <td>N</td>\n",
       "      <td>S</td>\n",
       "      <td>1º Ano/2º Ano/3º Ano/4º Ano/5º Ano/6º Ano/Pré-...</td>\n",
       "      <td>NaN</td>\n",
       "      <td>N</td>\n",
       "      <td>MARIA ROSA DOS SANTOS FERREIRA MENDES</td>\n",
       "      <td>2233-1273/2233-1822</td>\n",
       "      <td>33062447.0</td>\n",
       "      <td>DANIELLE DA SILVA SANTOS BEAUBERNARD</td>\n",
       "    </tr>\n",
       "  </tbody>\n",
       "</table>\n",
       "</div>"
      ],
      "text/plain": [
       "   Designação                        Nome            Logradouro        Bairro  \\\n",
       "0      101001     VICENTE LICINIO CARDOSO    Rua Edgar Gordilho    Praça Mauá   \n",
       "1      101003                DARCY VARGAS     Rua Souza e Silva         Saúde   \n",
       "2      101004           BENJAMIN CONSTANT  Pça. Marechal Hermes  Santo Cristo   \n",
       "3      101005               GENERAL MITRE           Rua Farnese  Santo Cristo   \n",
       "4      101006  FRANCISCO BENJAMIM GALLOTI        Rua da América  Santo Cristo   \n",
       "\n",
       "  Número Complemento        CEP  IDEB 1º Segmento  IDEB 2º Segmento  \\\n",
       "0     63         NaN  20081-070               NaN               4.4   \n",
       "1    112         NaN  20220-560               4.3               NaN   \n",
       "2   S/Nº         NaN  20220-430               5.8               5.1   \n",
       "3     39         NaN  20220-640               5.6               NaN   \n",
       "4     81         NaN  20220-010               4.4               NaN   \n",
       "\n",
       "    Latitude  Longitude Ginásio Carioca Acessibilidade  \\\n",
       "0 -22.896502 -43.183334               N              N   \n",
       "1 -22.895254 -43.188907               N              S   \n",
       "2 -22.899485 -43.205106               N              S   \n",
       "3 -22.904604 -43.202779               N              S   \n",
       "4 -22.900868 -43.199464               N              S   \n",
       "\n",
       "                                    Séries Atendidas Turnos Atendidos  \\\n",
       "0               7º Ano/8º Ano/9º Ano/Classe Especial              NaN   \n",
       "1  1º Ano/2º Ano/3º Ano/4º Ano/4º Ano - NCM/5º An...              NaN   \n",
       "2  1º Ano/2º Ano/3º Ano/4º Ano/4º Ano - NCM/5º An...              NaN   \n",
       "3  1º Ano/2º Ano/3º Ano/4º Ano/5º Ano/6º Ano/Pré-...              NaN   \n",
       "4  1º Ano/2º Ano/3º Ano/4º Ano/5º Ano/6º Ano/Pré-...              NaN   \n",
       "\n",
       "  Ginásio Olímpico                                Diretor  \\\n",
       "0                N            NIVERTON DE AZEVEDO ANTUNES   \n",
       "1                N   CARLA SAMPAIO DE CASTRO E SILVA REIS   \n",
       "2                N             ALECIA ALMEIDA DE OLIVEIRA   \n",
       "3                N          MARCELLE CRISTINE DIAS MENDES   \n",
       "4                N  MARIA ROSA DOS SANTOS FERREIRA MENDES   \n",
       "\n",
       "              Telefone        INEP                Coordenador Pedagógico  \n",
       "0  2253-4643/2263-7200  33062501.0                   INES GIESTA RESENDE  \n",
       "1  2233-0593/2233-0516  33062439.0              ANDREA DOS SANTOS SIMOES  \n",
       "2  2263-3188/2233-1322  33062420.0           CINTIA CECI REZENDE NICOLAU  \n",
       "3            2263-5478  33062455.0  ANA CLAUDIA MARQUES DE SOUZA E SILVA  \n",
       "4  2233-1273/2233-1822  33062447.0  DANIELLE DA SILVA SANTOS BEAUBERNARD  "
      ]
     },
     "execution_count": 24,
     "metadata": {},
     "output_type": "execute_result"
    }
   ],
   "source": [
    "import pandas as pd\n",
    "import numpy as np\n",
    "pd.set_option('display.max_rows', 500)\n",
    "dt = pd.read_csv(\"escolas.csv\",encoding=\"latin1\")\n",
    "dt.head()"
   ]
  },
  {
   "cell_type": "markdown",
   "metadata": {},
   "source": [
    "### Just describe information of numeric features"
   ]
  },
  {
   "cell_type": "code",
   "execution_count": 25,
   "metadata": {
    "collapsed": false,
    "scrolled": true
   },
   "outputs": [
    {
     "data": {
      "text/html": [
       "<div>\n",
       "<table border=\"1\" class=\"dataframe\">\n",
       "  <thead>\n",
       "    <tr style=\"text-align: right;\">\n",
       "      <th></th>\n",
       "      <th>Designação</th>\n",
       "      <th>IDEB 1º Segmento</th>\n",
       "      <th>IDEB 2º Segmento</th>\n",
       "      <th>Latitude</th>\n",
       "      <th>Longitude</th>\n",
       "      <th>INEP</th>\n",
       "    </tr>\n",
       "  </thead>\n",
       "  <tbody>\n",
       "    <tr>\n",
       "      <th>count</th>\n",
       "      <td>1.484000e+03</td>\n",
       "      <td>684.000000</td>\n",
       "      <td>357.000000</td>\n",
       "      <td>1425.000000</td>\n",
       "      <td>1425.000000</td>\n",
       "      <td>1.395000e+03</td>\n",
       "    </tr>\n",
       "    <tr>\n",
       "      <th>mean</th>\n",
       "      <td>6.079096e+05</td>\n",
       "      <td>5.471784</td>\n",
       "      <td>4.447619</td>\n",
       "      <td>-22.891513</td>\n",
       "      <td>-43.375173</td>\n",
       "      <td>3.309721e+07</td>\n",
       "    </tr>\n",
       "    <tr>\n",
       "      <th>std</th>\n",
       "      <td>2.987977e+05</td>\n",
       "      <td>0.733816</td>\n",
       "      <td>0.618331</td>\n",
       "      <td>0.049067</td>\n",
       "      <td>0.146562</td>\n",
       "      <td>5.206344e+04</td>\n",
       "    </tr>\n",
       "    <tr>\n",
       "      <th>min</th>\n",
       "      <td>1.010010e+05</td>\n",
       "      <td>2.500000</td>\n",
       "      <td>3.000000</td>\n",
       "      <td>-23.067588</td>\n",
       "      <td>-43.722949</td>\n",
       "      <td>3.306236e+07</td>\n",
       "    </tr>\n",
       "    <tr>\n",
       "      <th>25%</th>\n",
       "      <td>3.136068e+05</td>\n",
       "      <td>5.000000</td>\n",
       "      <td>4.000000</td>\n",
       "      <td>-22.920446</td>\n",
       "      <td>-43.472729</td>\n",
       "      <td>3.307329e+07</td>\n",
       "    </tr>\n",
       "    <tr>\n",
       "      <th>50%</th>\n",
       "      <td>6.250315e+05</td>\n",
       "      <td>5.500000</td>\n",
       "      <td>4.400000</td>\n",
       "      <td>-22.888735</td>\n",
       "      <td>-43.342587</td>\n",
       "      <td>3.308187e+07</td>\n",
       "    </tr>\n",
       "    <tr>\n",
       "      <th>75%</th>\n",
       "      <td>8.330432e+05</td>\n",
       "      <td>5.900000</td>\n",
       "      <td>4.800000</td>\n",
       "      <td>-22.857344</td>\n",
       "      <td>-43.256295</td>\n",
       "      <td>3.309529e+07</td>\n",
       "    </tr>\n",
       "    <tr>\n",
       "      <th>max</th>\n",
       "      <td>1.202701e+06</td>\n",
       "      <td>8.500000</td>\n",
       "      <td>6.600000</td>\n",
       "      <td>-22.752666</td>\n",
       "      <td>-43.109162</td>\n",
       "      <td>3.352327e+07</td>\n",
       "    </tr>\n",
       "  </tbody>\n",
       "</table>\n",
       "</div>"
      ],
      "text/plain": [
       "         Designação  IDEB 1º Segmento  IDEB 2º Segmento     Latitude  \\\n",
       "count  1.484000e+03        684.000000        357.000000  1425.000000   \n",
       "mean   6.079096e+05          5.471784          4.447619   -22.891513   \n",
       "std    2.987977e+05          0.733816          0.618331     0.049067   \n",
       "min    1.010010e+05          2.500000          3.000000   -23.067588   \n",
       "25%    3.136068e+05          5.000000          4.000000   -22.920446   \n",
       "50%    6.250315e+05          5.500000          4.400000   -22.888735   \n",
       "75%    8.330432e+05          5.900000          4.800000   -22.857344   \n",
       "max    1.202701e+06          8.500000          6.600000   -22.752666   \n",
       "\n",
       "         Longitude          INEP  \n",
       "count  1425.000000  1.395000e+03  \n",
       "mean    -43.375173  3.309721e+07  \n",
       "std       0.146562  5.206344e+04  \n",
       "min     -43.722949  3.306236e+07  \n",
       "25%     -43.472729  3.307329e+07  \n",
       "50%     -43.342587  3.308187e+07  \n",
       "75%     -43.256295  3.309529e+07  \n",
       "max     -43.109162  3.352327e+07  "
      ]
     },
     "execution_count": 25,
     "metadata": {},
     "output_type": "execute_result"
    }
   ],
   "source": [
    "dt.describe()"
   ]
  },
  {
   "cell_type": "markdown",
   "metadata": {},
   "source": [
    "### 1) Which neighborhoods have least/most number of schools? "
   ]
  },
  {
   "cell_type": "code",
   "execution_count": 26,
   "metadata": {
    "collapsed": false
   },
   "outputs": [
    {
     "data": {
      "text/plain": [
       "'Santa Cruz - Count: 78'"
      ]
     },
     "execution_count": 26,
     "metadata": {},
     "output_type": "execute_result"
    }
   ],
   "source": [
    "str(dt[\"Bairro\"].value_counts().idxmax()) + \" - Count: \" + str(dt[\"Bairro\"].value_counts().max())"
   ]
  },
  {
   "cell_type": "code",
   "execution_count": 27,
   "metadata": {
    "collapsed": false
   },
   "outputs": [
    {
     "data": {
      "text/plain": [
       "'Campo Grande/Benjamin Dumont - Count: 1'"
      ]
     },
     "execution_count": 27,
     "metadata": {},
     "output_type": "execute_result"
    }
   ],
   "source": [
    "str(dt[\"Bairro\"].value_counts().idxmin()) + \" - Count: \" + str(dt[\"Bairro\"].value_counts().min())"
   ]
  },
  {
   "cell_type": "markdown",
   "metadata": {},
   "source": [
    "### 2) How many schools in Catumbi neighborhood has only full time schedule? "
   ]
  },
  {
   "cell_type": "code",
   "execution_count": 28,
   "metadata": {
    "collapsed": false
   },
   "outputs": [
    {
     "data": {
      "text/html": [
       "<div>\n",
       "<table border=\"1\" class=\"dataframe\">\n",
       "  <thead>\n",
       "    <tr style=\"text-align: right;\">\n",
       "      <th></th>\n",
       "      <th>Designação</th>\n",
       "      <th>Nome</th>\n",
       "      <th>Logradouro</th>\n",
       "      <th>Bairro</th>\n",
       "      <th>Número</th>\n",
       "      <th>Complemento</th>\n",
       "      <th>CEP</th>\n",
       "      <th>IDEB 1º Segmento</th>\n",
       "      <th>IDEB 2º Segmento</th>\n",
       "      <th>Latitude</th>\n",
       "      <th>Longitude</th>\n",
       "      <th>Ginásio Carioca</th>\n",
       "      <th>Acessibilidade</th>\n",
       "      <th>Séries Atendidas</th>\n",
       "      <th>Turnos Atendidos</th>\n",
       "      <th>Ginásio Olímpico</th>\n",
       "      <th>Diretor</th>\n",
       "      <th>Telefone</th>\n",
       "      <th>INEP</th>\n",
       "      <th>Coordenador Pedagógico</th>\n",
       "    </tr>\n",
       "  </thead>\n",
       "  <tbody>\n",
       "    <tr>\n",
       "      <th>57</th>\n",
       "      <td>103802</td>\n",
       "      <td>LILY MARINHO</td>\n",
       "      <td>Av. 31 de março</td>\n",
       "      <td>Catumbi</td>\n",
       "      <td>s/n</td>\n",
       "      <td>NaN</td>\n",
       "      <td>20251-350</td>\n",
       "      <td>NaN</td>\n",
       "      <td>NaN</td>\n",
       "      <td>-22.918516</td>\n",
       "      <td>-43.192994</td>\n",
       "      <td>N</td>\n",
       "      <td>S</td>\n",
       "      <td>Creche</td>\n",
       "      <td>Integral</td>\n",
       "      <td>N</td>\n",
       "      <td>NILCEA DE AZEVEDO SIQUEIRA</td>\n",
       "      <td>2273-8334</td>\n",
       "      <td>33164126.0</td>\n",
       "      <td>SANDRA REGINA MARTINS RABELO</td>\n",
       "    </tr>\n",
       "    <tr>\n",
       "      <th>61</th>\n",
       "      <td>103807</td>\n",
       "      <td>MARIA LUIZA NOBRE - TIA LUIZINHA</td>\n",
       "      <td>Rua Itapiru</td>\n",
       "      <td>Catumbi</td>\n",
       "      <td>527</td>\n",
       "      <td>NaN</td>\n",
       "      <td>NaN</td>\n",
       "      <td>NaN</td>\n",
       "      <td>NaN</td>\n",
       "      <td>-22.922011</td>\n",
       "      <td>-43.197133</td>\n",
       "      <td>N</td>\n",
       "      <td>N</td>\n",
       "      <td>Creche/Pré-Escola</td>\n",
       "      <td>Integral</td>\n",
       "      <td>N</td>\n",
       "      <td>FABIANA DE OLIVEIRA LEANDRO RAMOS</td>\n",
       "      <td>NaN</td>\n",
       "      <td>NaN</td>\n",
       "      <td>NaN</td>\n",
       "    </tr>\n",
       "  </tbody>\n",
       "</table>\n",
       "</div>"
      ],
      "text/plain": [
       "    Designação                              Nome       Logradouro   Bairro  \\\n",
       "57      103802                      LILY MARINHO  Av. 31 de março  Catumbi   \n",
       "61      103807  MARIA LUIZA NOBRE - TIA LUIZINHA      Rua Itapiru  Catumbi   \n",
       "\n",
       "   Número Complemento        CEP  IDEB 1º Segmento  IDEB 2º Segmento  \\\n",
       "57    s/n         NaN  20251-350               NaN               NaN   \n",
       "61    527         NaN        NaN               NaN               NaN   \n",
       "\n",
       "     Latitude  Longitude Ginásio Carioca Acessibilidade   Séries Atendidas  \\\n",
       "57 -22.918516 -43.192994               N              S             Creche   \n",
       "61 -22.922011 -43.197133               N              N  Creche/Pré-Escola   \n",
       "\n",
       "   Turnos Atendidos Ginásio Olímpico                            Diretor  \\\n",
       "57         Integral                N         NILCEA DE AZEVEDO SIQUEIRA   \n",
       "61         Integral                N  FABIANA DE OLIVEIRA LEANDRO RAMOS   \n",
       "\n",
       "     Telefone        INEP        Coordenador Pedagógico  \n",
       "57  2273-8334  33164126.0  SANDRA REGINA MARTINS RABELO  \n",
       "61        NaN         NaN                           NaN  "
      ]
     },
     "execution_count": 28,
     "metadata": {},
     "output_type": "execute_result"
    }
   ],
   "source": [
    "schools_Catumbi_integral = dt[(dt[\"Bairro\"]==\"Catumbi\") & (dt[\"Turnos Atendidos\"]==\"Integral\")]\n",
    "schools_Catumbi_integral"
   ]
  },
  {
   "cell_type": "markdown",
   "metadata": {},
   "source": [
    "### 3) Which percentage this number of schools represent based on total amount? "
   ]
  },
  {
   "cell_type": "code",
   "execution_count": 29,
   "metadata": {
    "collapsed": false
   },
   "outputs": [
    {
     "data": {
      "text/plain": [
       "'0.13477088948787064%'"
      ]
     },
     "execution_count": 29,
     "metadata": {},
     "output_type": "execute_result"
    }
   ],
   "source": [
    "str((len(schools_Catumbi_integral) / len(dt)) * 100) + \"%\""
   ]
  },
  {
   "cell_type": "markdown",
   "metadata": {},
   "source": [
    "### 4) How many Cordinators have been working in more than one school? "
   ]
  },
  {
   "cell_type": "code",
   "execution_count": 30,
   "metadata": {
    "collapsed": false
   },
   "outputs": [],
   "source": [
    "dt_nunique = dt[\"Coordenador Pedagógico\"].value_counts()"
   ]
  },
  {
   "cell_type": "code",
   "execution_count": 31,
   "metadata": {
    "collapsed": false
   },
   "outputs": [
    {
     "data": {
      "text/plain": [
       "Series([], Name: Coordenador Pedagógico, dtype: int64)"
      ]
     },
     "execution_count": 31,
     "metadata": {},
     "output_type": "execute_result"
    }
   ],
   "source": [
    "dt_nunique[dt_nunique > 1]"
   ]
  },
  {
   "cell_type": "markdown",
   "metadata": {},
   "source": [
    "Cordinators only work for one school in dataset provided."
   ]
  },
  {
   "cell_type": "markdown",
   "metadata": {},
   "source": [
    "### 5) What is the address(street + neighboord) with more schools in the city? "
   ]
  },
  {
   "cell_type": "code",
   "execution_count": 32,
   "metadata": {
    "collapsed": true
   },
   "outputs": [],
   "source": [
    "dt_nunique = dt[\"Logradouro\"].value_counts()"
   ]
  },
  {
   "cell_type": "code",
   "execution_count": 33,
   "metadata": {
    "collapsed": false
   },
   "outputs": [
    {
     "data": {
      "text/plain": [
       "Av. Brasil                                  10\n",
       "Av. Dom Hélder Câmara                        6\n",
       "Av. Cesário De Melo                          5\n",
       "Estrada de Jacarepaguá                       4\n",
       "Rua Carlos Seidl                             4\n",
       "Av. Santa Cruz                               4\n",
       "Estrada De Jacarepaguá                       4\n",
       "Rua José dos Reis                            4\n",
       "Rua Felipe Cardoso                           3\n",
       "Av. Nelson Cardoso                           3\n",
       "Pça. Ênio                                    3\n",
       "Av. Itaóca                                   3\n",
       "Rua Umbuzeiro                                3\n",
       "Estr. Do Magarça                             3\n",
       "Estr. Da Barra de Guaratiba                  3\n",
       "Av. Pastor Martin Luther King                3\n",
       "Rua Pacheco Leão                             3\n",
       "Rua Laurindo Rabelo                          3\n",
       "Rua Vila Aurora                              2\n",
       "Rua Salinópolis                              2\n",
       "Rua Romeu Casa Grande                        2\n",
       "Rua Adolfo Bergamini                         2\n",
       "Rua Armando Albuquerque                      2\n",
       "Av. Bartolomeu De Gusmão                     2\n",
       "Rua Murilo de Alvarenga                      2\n",
       "Estrada de Botafogo                          2\n",
       "Rua Vitor Meireles                           2\n",
       "Av. Pres. Vargas                             2\n",
       "Rua São Miguel  - CIEP Antoine Magarinos     2\n",
       "Rua Joaquim Pizarro                          2\n",
       "Rua Calixto Silva                            2\n",
       "Rua Pedro Autran                             2\n",
       "Rua Antonio Rego                             2\n",
       "Rua Fausto e Castro                          2\n",
       "Rua Prof. Souza Moreira                      2\n",
       "Av. Antares S/Nº                             2\n",
       "Rua Padre Juvenal 74                         2\n",
       "Rua Infante de Sagres                        2\n",
       "Rua Gentil de Ouro                           2\n",
       "Rua Primeira Cruz                            2\n",
       "Rua Ana Néri                                 2\n",
       "Rua Jorge Lacerda S/Nº                       2\n",
       "Rua Mamoré                                   2\n",
       "Rua Conceição de Ipanema                     2\n",
       "Rua Francolin                                2\n",
       "Rua Ébano                                    2\n",
       "Rua Bérgamo                                  2\n",
       "Rua Barão                                    2\n",
       "Rua Soldado Servino Mengarda                 2\n",
       "Rua Cônego Tobias                            2\n",
       "Estr. De Sepetiba                            2\n",
       "Rua Itapiru                                  2\n",
       "Rua Jape                                     2\n",
       "Rua São Domiciano                            2\n",
       "Av. Salvador de Sá                           2\n",
       "Rua Nova Trento                              2\n",
       "Rua Projetada S/Nº - Vila Pinheiro           2\n",
       "Rua Do Lavradio                              2\n",
       "Rua São Calixto                              2\n",
       "Rua Cândido Benício S/Nº                     2\n",
       "Estr. Da Cancela Preta                       2\n",
       "Rua Marquês de São Vicente                   2\n",
       "Rua Herculano Pena S/Nº                      2\n",
       "Rua Raul Azevedo 442                         2\n",
       "Pça. Barão da Taquara                        2\n",
       "Rua Leopoldo Bulhões                         2\n",
       "Av. Presidente João Goulart                  2\n",
       "Rua Heráclito Graça                          2\n",
       "Estr. Adhemar Bebiano                        2\n",
       "Av. Maracanã                                 2\n",
       "Pça. Santos Dumont                           2\n",
       "Rua Bernardo de Vasconcelos                  2\n",
       "Rua Darke de Matos                           2\n",
       "Praia de Inhaúma                             2\n",
       "Rua Menino Jesus de Praga                    2\n",
       "Rua Iguaba Grande                            2\n",
       "Rua Senador Furtado                          2\n",
       "Rua Jardim Botânico                          2\n",
       "Rua Gil Eanes                                2\n",
       "Estr. Marechal Alencastro                    2\n",
       "Rua Roque Barbosa                            2\n",
       "Rua Jupará                                   2\n",
       "Estr. de Botafogo                            2\n",
       "Rua Ernesto De Souza                         2\n",
       "Rua Ferreira de Andrade                      2\n",
       "Estrada do Itararé                           2\n",
       "Name: Logradouro, dtype: int64"
      ]
     },
     "execution_count": 33,
     "metadata": {},
     "output_type": "execute_result"
    }
   ],
   "source": [
    "dt_nunique[dt_nunique > 1]"
   ]
  },
  {
   "cell_type": "code",
   "execution_count": 34,
   "metadata": {
    "collapsed": false
   },
   "outputs": [],
   "source": [
    "same_street = dt[(dt[\"Logradouro\"] == \"Av. Brasil\")]\n",
    "count_same_street = same_street[\"Bairro\"].value_counts()"
   ]
  },
  {
   "cell_type": "code",
   "execution_count": 35,
   "metadata": {
    "collapsed": false
   },
   "outputs": [
    {
     "data": {
      "text/plain": [
       "Irajá    4\n",
       "Name: Bairro, dtype: int64"
      ]
     },
     "execution_count": 35,
     "metadata": {},
     "output_type": "execute_result"
    }
   ],
   "source": [
    "count_same_street[count_same_street > 1]"
   ]
  },
  {
   "cell_type": "markdown",
   "metadata": {},
   "source": [
    "So the location is the pair Av. Brasil - Iraja full address."
   ]
  },
  {
   "cell_type": "markdown",
   "metadata": {},
   "source": [
    "### 6) What is the percentage of schools that don't have acessibility?"
   ]
  },
  {
   "cell_type": "code",
   "execution_count": 36,
   "metadata": {
    "collapsed": false
   },
   "outputs": [
    {
     "data": {
      "text/plain": [
       "'64.08355795148249%'"
      ]
     },
     "execution_count": 36,
     "metadata": {},
     "output_type": "execute_result"
    }
   ],
   "source": [
    "str((dt[(dt[\"Acessibilidade\"] == \"N\")].shape[0] / len(dt)) * 100) + \"%\""
   ]
  },
  {
   "cell_type": "markdown",
   "metadata": {},
   "source": [
    "### 7) What is the percentage of schools that have Olimpic gymnasium?"
   ]
  },
  {
   "cell_type": "code",
   "execution_count": 37,
   "metadata": {
    "collapsed": false
   },
   "outputs": [
    {
     "data": {
      "text/plain": [
       "'0.13477088948787064%'"
      ]
     },
     "execution_count": 37,
     "metadata": {},
     "output_type": "execute_result"
    }
   ],
   "source": [
    "str((dt[(dt[\"Ginásio Olímpico\"] == \"S\")].shape[0] / len(dt)) * 100) + \"%\""
   ]
  },
  {
   "cell_type": "markdown",
   "metadata": {},
   "source": [
    "### 8) What is the percentage of schools that have Carioca program?"
   ]
  },
  {
   "cell_type": "code",
   "execution_count": 38,
   "metadata": {
    "collapsed": false
   },
   "outputs": [
    {
     "data": {
      "text/plain": [
       "'0.6738544474393532%'"
      ]
     },
     "execution_count": 38,
     "metadata": {},
     "output_type": "execute_result"
    }
   ],
   "source": [
    "str((dt[(dt[\"Ginásio Carioca\"] == \"S\")].shape[0] / len(dt)) * 100) + \"%\""
   ]
  }
 ],
 "metadata": {
  "kernelspec": {
   "display_name": "Python 3",
   "language": "python",
   "name": "python3"
  },
  "language_info": {
   "codemirror_mode": {
    "name": "ipython",
    "version": 3
   },
   "file_extension": ".py",
   "mimetype": "text/x-python",
   "name": "python",
   "nbconvert_exporter": "python",
   "pygments_lexer": "ipython3",
   "version": "3.5.2"
  }
 },
 "nbformat": 4,
 "nbformat_minor": 2
}
