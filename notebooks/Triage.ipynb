{
 "cells": [
  {
   "cell_type": "markdown",
   "metadata": {},
   "source": [
    "# Automatic Triage using Machine Learning\n",
    "This project was developed in order to help triage proccess making it faster and more accurated.\n",
    "The dataset used was provided by Kaggle user and can be found at:\n",
    "https://www.kaggle.com/monika11/bug-triagingbug-assignment\n",
    "\n",
    "The idea is the use of machine learning algorithms to automatically categorize issues to the proper component. As the dataset provided was too unbalanced with some components having only few samples, the workaround choosen was to develop a model considering the five most common components.\n",
    "\n",
    "Feel free to contact me if you have any questions."
   ]
  },
  {
   "cell_type": "code",
   "execution_count": 1187,
   "metadata": {
    "collapsed": false
   },
   "outputs": [],
   "source": [
    "import numpy as np\n",
    "import pandas as pd # Pandas is an easy-to-use data structures and data analysis tools\n",
    "import matplotlib.pyplot as plt # Matplot is a common Python lib for plotting\n",
    "%matplotlib inline\n",
    "import seaborn as sns # Seaborn is a great tool for data analysis graphs\n",
    "# pd.set_option('display.max_columns', None) # To display all columns"
   ]
  },
  {
   "cell_type": "markdown",
   "metadata": {},
   "source": [
    "Read the entire dataset provided using pandas"
   ]
  },
  {
   "cell_type": "code",
   "execution_count": 1188,
   "metadata": {
    "collapsed": true
   },
   "outputs": [],
   "source": [
    "df = pd.read_csv(\"dataset.csv\")"
   ]
  },
  {
   "cell_type": "markdown",
   "metadata": {},
   "source": [
    "Use of head() function to provide the first 5 lines of the dataset"
   ]
  },
  {
   "cell_type": "code",
   "execution_count": 1189,
   "metadata": {
    "collapsed": false,
    "scrolled": true
   },
   "outputs": [
    {
     "data": {
      "text/html": [
       "<div>\n",
       "<table border=\"1\" class=\"dataframe\">\n",
       "  <thead>\n",
       "    <tr style=\"text-align: right;\">\n",
       "      <th></th>\n",
       "      <th>Bug ID</th>\n",
       "      <th>Product</th>\n",
       "      <th>Component</th>\n",
       "      <th>Assignee</th>\n",
       "      <th>Status</th>\n",
       "      <th>Resolution</th>\n",
       "      <th>Summary</th>\n",
       "      <th>Changed</th>\n",
       "      <th>Assignee Real Name</th>\n",
       "      <th>Classification</th>\n",
       "      <th>Flags</th>\n",
       "      <th>Hardware</th>\n",
       "      <th>Keywords</th>\n",
       "      <th>Number of Comments</th>\n",
       "      <th>Opened</th>\n",
       "      <th>OS</th>\n",
       "      <th>Priority</th>\n",
       "      <th>QA Contact</th>\n",
       "      <th>QA Contact Real Name</th>\n",
       "      <th>Reporter</th>\n",
       "      <th>Reporter Real Name</th>\n",
       "      <th>Severity</th>\n",
       "      <th>Summary.1</th>\n",
       "      <th>Tags</th>\n",
       "      <th>Target Milestone</th>\n",
       "      <th>URL</th>\n",
       "      <th>Version</th>\n",
       "      <th>Votes</th>\n",
       "      <th>Whiteboard</th>\n",
       "      <th>Alias</th>\n",
       "    </tr>\n",
       "  </thead>\n",
       "  <tbody>\n",
       "    <tr>\n",
       "      <th>0</th>\n",
       "      <td>3638</td>\n",
       "      <td>JDT</td>\n",
       "      <td>UI</td>\n",
       "      <td>aeschli</td>\n",
       "      <td>VERIFIED</td>\n",
       "      <td>FIXED</td>\n",
       "      <td>Package Viewer: order resource folders before ...</td>\n",
       "      <td>2002-01-17 07:28:04</td>\n",
       "      <td>Martin Aeschlimann</td>\n",
       "      <td>Eclipse</td>\n",
       "      <td>NaN</td>\n",
       "      <td>All</td>\n",
       "      <td>NaN</td>\n",
       "      <td>3</td>\n",
       "      <td>2001-10-10 22:58:24</td>\n",
       "      <td>Windows NT</td>\n",
       "      <td>P1</td>\n",
       "      <td>NaN</td>\n",
       "      <td>NaN</td>\n",
       "      <td>aeschli</td>\n",
       "      <td>Martin Aeschlimann</td>\n",
       "      <td>major</td>\n",
       "      <td>Package Viewer: order resource folders before ...</td>\n",
       "      <td>NaN</td>\n",
       "      <td>---</td>\n",
       "      <td>NaN</td>\n",
       "      <td>2.0</td>\n",
       "      <td>0</td>\n",
       "      <td>NaN</td>\n",
       "      <td>NaN</td>\n",
       "    </tr>\n",
       "    <tr>\n",
       "      <th>1</th>\n",
       "      <td>3854</td>\n",
       "      <td>JDT</td>\n",
       "      <td>UI</td>\n",
       "      <td>aeschli</td>\n",
       "      <td>VERIFIED</td>\n",
       "      <td>FIXED</td>\n",
       "      <td>Wrong execution's classpath. (1GEY0W0)</td>\n",
       "      <td>2002-01-18 04:02:11</td>\n",
       "      <td>Martin Aeschlimann</td>\n",
       "      <td>Eclipse</td>\n",
       "      <td>NaN</td>\n",
       "      <td>All</td>\n",
       "      <td>NaN</td>\n",
       "      <td>5</td>\n",
       "      <td>2001-10-10 23:01:58</td>\n",
       "      <td>Windows NT</td>\n",
       "      <td>P1</td>\n",
       "      <td>NaN</td>\n",
       "      <td>NaN</td>\n",
       "      <td>david_audel</td>\n",
       "      <td>David Audel</td>\n",
       "      <td>normal</td>\n",
       "      <td>Wrong execution's classpath. (1GEY0W0)</td>\n",
       "      <td>NaN</td>\n",
       "      <td>---</td>\n",
       "      <td>NaN</td>\n",
       "      <td>2.0</td>\n",
       "      <td>0</td>\n",
       "      <td>NaN</td>\n",
       "      <td>NaN</td>\n",
       "    </tr>\n",
       "    <tr>\n",
       "      <th>2</th>\n",
       "      <td>4188</td>\n",
       "      <td>JDT</td>\n",
       "      <td>UI</td>\n",
       "      <td>aeschli</td>\n",
       "      <td>VERIFIED</td>\n",
       "      <td>FIXED</td>\n",
       "      <td>type hierachy - typo (1GJW2XJ)</td>\n",
       "      <td>2002-01-28 03:12:37</td>\n",
       "      <td>Martin Aeschlimann</td>\n",
       "      <td>Eclipse</td>\n",
       "      <td>NaN</td>\n",
       "      <td>All</td>\n",
       "      <td>NaN</td>\n",
       "      <td>3</td>\n",
       "      <td>2001-10-10 23:07:31</td>\n",
       "      <td>Windows 2000</td>\n",
       "      <td>P1</td>\n",
       "      <td>NaN</td>\n",
       "      <td>NaN</td>\n",
       "      <td>erich_gamma</td>\n",
       "      <td>Erich Gamma</td>\n",
       "      <td>normal</td>\n",
       "      <td>type hierachy - typo (1GJW2XJ)</td>\n",
       "      <td>NaN</td>\n",
       "      <td>---</td>\n",
       "      <td>NaN</td>\n",
       "      <td>2.0</td>\n",
       "      <td>0</td>\n",
       "      <td>NaN</td>\n",
       "      <td>NaN</td>\n",
       "    </tr>\n",
       "    <tr>\n",
       "      <th>3</th>\n",
       "      <td>5115</td>\n",
       "      <td>JDT</td>\n",
       "      <td>Debug</td>\n",
       "      <td>aeschli</td>\n",
       "      <td>VERIFIED</td>\n",
       "      <td>FIXED</td>\n",
       "      <td>Workspace source locator fails with mulitple p...</td>\n",
       "      <td>2001-11-13 10:11:09</td>\n",
       "      <td>Martin Aeschlimann</td>\n",
       "      <td>Eclipse</td>\n",
       "      <td>NaN</td>\n",
       "      <td>PC</td>\n",
       "      <td>NaN</td>\n",
       "      <td>10</td>\n",
       "      <td>2001-10-19 13:41:25</td>\n",
       "      <td>Windows 2000</td>\n",
       "      <td>P1</td>\n",
       "      <td>NaN</td>\n",
       "      <td>NaN</td>\n",
       "      <td>darin.eclipse</td>\n",
       "      <td>Darin Wright</td>\n",
       "      <td>normal</td>\n",
       "      <td>Workspace source locator fails with mulitple p...</td>\n",
       "      <td>NaN</td>\n",
       "      <td>---</td>\n",
       "      <td>NaN</td>\n",
       "      <td>2.0</td>\n",
       "      <td>0</td>\n",
       "      <td>NaN</td>\n",
       "      <td>NaN</td>\n",
       "    </tr>\n",
       "    <tr>\n",
       "      <th>4</th>\n",
       "      <td>5820</td>\n",
       "      <td>JDT</td>\n",
       "      <td>UI</td>\n",
       "      <td>aeschli</td>\n",
       "      <td>VERIFIED</td>\n",
       "      <td>FIXED</td>\n",
       "      <td>Close all editors brings up hierarchy of object</td>\n",
       "      <td>2001-11-20 16:22:35</td>\n",
       "      <td>Martin Aeschlimann</td>\n",
       "      <td>Eclipse</td>\n",
       "      <td>NaN</td>\n",
       "      <td>PC</td>\n",
       "      <td>NaN</td>\n",
       "      <td>5</td>\n",
       "      <td>2001-11-12 18:18:05</td>\n",
       "      <td>Windows 2000</td>\n",
       "      <td>P1</td>\n",
       "      <td>NaN</td>\n",
       "      <td>NaN</td>\n",
       "      <td>jed.anderson</td>\n",
       "      <td>Jed Anderson</td>\n",
       "      <td>normal</td>\n",
       "      <td>Close all editors brings up hierarchy of object</td>\n",
       "      <td>NaN</td>\n",
       "      <td>---</td>\n",
       "      <td>NaN</td>\n",
       "      <td>2.0</td>\n",
       "      <td>0</td>\n",
       "      <td>NaN</td>\n",
       "      <td>NaN</td>\n",
       "    </tr>\n",
       "  </tbody>\n",
       "</table>\n",
       "</div>"
      ],
      "text/plain": [
       "   Bug ID Product Component Assignee    Status Resolution  \\\n",
       "0    3638     JDT        UI  aeschli  VERIFIED      FIXED   \n",
       "1    3854     JDT        UI  aeschli  VERIFIED      FIXED   \n",
       "2    4188     JDT        UI  aeschli  VERIFIED      FIXED   \n",
       "3    5115     JDT     Debug  aeschli  VERIFIED      FIXED   \n",
       "4    5820     JDT        UI  aeschli  VERIFIED      FIXED   \n",
       "\n",
       "                                             Summary              Changed  \\\n",
       "0  Package Viewer: order resource folders before ...  2002-01-17 07:28:04   \n",
       "1             Wrong execution's classpath. (1GEY0W0)  2002-01-18 04:02:11   \n",
       "2                     type hierachy - typo (1GJW2XJ)  2002-01-28 03:12:37   \n",
       "3  Workspace source locator fails with mulitple p...  2001-11-13 10:11:09   \n",
       "4    Close all editors brings up hierarchy of object  2001-11-20 16:22:35   \n",
       "\n",
       "   Assignee Real Name Classification Flags Hardware Keywords  \\\n",
       "0  Martin Aeschlimann        Eclipse   NaN      All      NaN   \n",
       "1  Martin Aeschlimann        Eclipse   NaN      All      NaN   \n",
       "2  Martin Aeschlimann        Eclipse   NaN      All      NaN   \n",
       "3  Martin Aeschlimann        Eclipse   NaN       PC      NaN   \n",
       "4  Martin Aeschlimann        Eclipse   NaN       PC      NaN   \n",
       "\n",
       "   Number of Comments               Opened            OS Priority QA Contact  \\\n",
       "0                   3  2001-10-10 22:58:24    Windows NT       P1        NaN   \n",
       "1                   5  2001-10-10 23:01:58    Windows NT       P1        NaN   \n",
       "2                   3  2001-10-10 23:07:31  Windows 2000       P1        NaN   \n",
       "3                  10  2001-10-19 13:41:25  Windows 2000       P1        NaN   \n",
       "4                   5  2001-11-12 18:18:05  Windows 2000       P1        NaN   \n",
       "\n",
       "  QA Contact Real Name       Reporter  Reporter Real Name Severity  \\\n",
       "0                  NaN        aeschli  Martin Aeschlimann    major   \n",
       "1                  NaN    david_audel         David Audel   normal   \n",
       "2                  NaN    erich_gamma         Erich Gamma   normal   \n",
       "3                  NaN  darin.eclipse        Darin Wright   normal   \n",
       "4                  NaN   jed.anderson        Jed Anderson   normal   \n",
       "\n",
       "                                           Summary.1  Tags Target Milestone  \\\n",
       "0  Package Viewer: order resource folders before ...   NaN              ---   \n",
       "1             Wrong execution's classpath. (1GEY0W0)   NaN              ---   \n",
       "2                     type hierachy - typo (1GJW2XJ)   NaN              ---   \n",
       "3  Workspace source locator fails with mulitple p...   NaN              ---   \n",
       "4    Close all editors brings up hierarchy of object   NaN              ---   \n",
       "\n",
       "   URL Version  Votes Whiteboard  Alias  \n",
       "0  NaN     2.0      0        NaN    NaN  \n",
       "1  NaN     2.0      0        NaN    NaN  \n",
       "2  NaN     2.0      0        NaN    NaN  \n",
       "3  NaN     2.0      0        NaN    NaN  \n",
       "4  NaN     2.0      0        NaN    NaN  "
      ]
     },
     "execution_count": 1189,
     "metadata": {},
     "output_type": "execute_result"
    }
   ],
   "source": [
    "df.head()"
   ]
  },
  {
   "cell_type": "markdown",
   "metadata": {},
   "source": [
    "Total count for each component.\n",
    "Here we can see that some components only have few samples and for this project we're going to consider only the five most common ones."
   ]
  },
  {
   "cell_type": "code",
   "execution_count": 1190,
   "metadata": {
    "collapsed": false,
    "scrolled": false
   },
   "outputs": [
    {
     "data": {
      "text/plain": [
       "UI                                          4019\n",
       "Debug                                       2928\n",
       "Text                                         875\n",
       "Ant                                          729\n",
       "Core                                         490\n",
       "SWT                                          145\n",
       "User Assistance                              116\n",
       "Releng                                       104\n",
       "Doc                                           90\n",
       "Compare                                       85\n",
       "Team                                          85\n",
       "IDE                                           71\n",
       "Search                                        68\n",
       "API Tools                                     60\n",
       "CVS                                           52\n",
       "Update  (deprecated - use RT>Equinox>p2)      31\n",
       "Resources                                     18\n",
       "Build                                         10\n",
       "Runtime                                       10\n",
       "APT                                            9\n",
       "PMC                                            3\n",
       "Incubators                                     1\n",
       "Website                                        1\n",
       "Name: Component, dtype: int64"
      ]
     },
     "execution_count": 1190,
     "metadata": {},
     "output_type": "execute_result"
    }
   ],
   "source": [
    "df['Component'].value_counts()"
   ]
  },
  {
   "cell_type": "markdown",
   "metadata": {},
   "source": [
    "Creating labels column to pandas DataFrame in order to keep components as integer values since most machine learning algorithms don't work well with strings and characters."
   ]
  },
  {
   "cell_type": "code",
   "execution_count": 1191,
   "metadata": {
    "collapsed": false
   },
   "outputs": [],
   "source": [
    "df['labels'] = pd.Series(np.zeros(len(df)), index=df.index)\n",
    "for index, row in df.iterrows():\n",
    "    if(df.loc[index,'Component'] == \"UI\"):\n",
    "        df.loc[index,'labels'] = 0\n",
    "    elif(df.loc[index,'Component'] == \"Debug\"):\n",
    "        df.loc[index,'labels'] = 1\n",
    "    elif(df.loc[index,'Component'] == \"Text\"):\n",
    "        df.loc[index,'labels'] = 2\n",
    "    elif(df.loc[index,'Component'] == \"Ant\"):\n",
    "        df.loc[index,'labels'] = 3\n",
    "    elif(df.loc[index,'Component'] == \"Core\"):\n",
    "        df.loc[index,'labels'] = 4\n",
    "    else:\n",
    "        df.loc[index,'labels'] = 5"
   ]
  },
  {
   "cell_type": "markdown",
   "metadata": {},
   "source": [
    "Since we're going to consider only the five most common components we need to remove undesired labels. After that, we can check the new components count."
   ]
  },
  {
   "cell_type": "code",
   "execution_count": 1192,
   "metadata": {
    "collapsed": false,
    "scrolled": true
   },
   "outputs": [
    {
     "data": {
      "text/plain": [
       "<matplotlib.axes._subplots.AxesSubplot at 0x222a9570>"
      ]
     },
     "execution_count": 1192,
     "metadata": {},
     "output_type": "execute_result"
    },
    {
     "data": {
      "image/png": "[encoded data removed]",
      "text/plain": [
       "<matplotlib.figure.Figure at 0x222a9f30>"
      ]
     },
     "metadata": {},
     "output_type": "display_data"
    }
   ],
   "source": [
    "df = df[df['labels'] != 5]\n",
    "sns.countplot(x='Component', data=df)"
   ]
  },
  {
   "cell_type": "markdown",
   "metadata": {},
   "source": [
    "The training data is still unbalanced so we need to balance using the criteria of the same number of samples for each class. "
   ]
  },
  {
   "cell_type": "code",
   "execution_count": 1193,
   "metadata": {
    "collapsed": false
   },
   "outputs": [],
   "source": [
    "balanced_df = pd.DataFrame()\n",
    "for i in df['labels'].unique():\n",
    "    balanced_df = balanced_df.append(df[df['labels'] == i].iloc[:490],ignore_index=True)"
   ]
  },
  {
   "cell_type": "markdown",
   "metadata": {},
   "source": [
    "Returning a random sample of dataframe created."
   ]
  },
  {
   "cell_type": "code",
   "execution_count": 1194,
   "metadata": {
    "collapsed": false,
    "scrolled": false
   },
   "outputs": [
    {
     "data": {
      "text/plain": [
       "<matplotlib.axes._subplots.AxesSubplot at 0x2101cd70>"
      ]
     },
     "execution_count": 1194,
     "metadata": {},
     "output_type": "execute_result"
    },
    {
     "data": {
      "image/png": "[encoded data removed]",
      "text/plain": [
       "<matplotlib.figure.Figure at 0x20f24830>"
      ]
     },
     "metadata": {},
     "output_type": "display_data"
    }
   ],
   "source": [
    "df = balanced_df.sample(len(balanced_df), replace=True)\n",
    "sns.countplot(x='Component', data=df)"
   ]
  },
  {
   "cell_type": "markdown",
   "metadata": {},
   "source": [
    "# Approach 1: Naive Bayes step by step implementation\n",
    "CountVectorizer is responsible for occurrences counting of each word per sample (Bag of Words).\n",
    "Token pattern allows in this case choose only words with at least two characters while lowercase set to True transforms all the words to lowercase pattern.\n",
    "\n",
    "Stop words is set to avoid common english words that usually don't help on text analysis while strip() function takes care of cleaning strings from unnecessary whitespaces."
   ]
  },
  {
   "cell_type": "code",
   "execution_count": 1195,
   "metadata": {
    "collapsed": false
   },
   "outputs": [],
   "source": [
    "from sklearn.feature_extraction.text import CountVectorizer\n",
    "count_vect = CountVectorizer(token_pattern=r\"(?u)\\b[a-zA-Z]\\w+\\b\",stop_words='english',lowercase=True)\n",
    "data = []\n",
    "for i,row in df.iterrows():\n",
    "    data.append(row['Summary'].strip())"
   ]
  },
  {
   "cell_type": "markdown",
   "metadata": {},
   "source": [
    "Tf means term-frequency while tf-idf means term-frequency times inverse document-frequency. The goal of using tf-idf instead of the raw frequencies of occurrence of a token in a given document is to scale down the impact of tokens that occur very frequently in a given corpus and that are hence empirically less informative than features that occur in a small fraction of the training corpus."
   ]
  },
  {
   "cell_type": "code",
   "execution_count": 1196,
   "metadata": {
    "collapsed": false
   },
   "outputs": [],
   "source": [
    "from sklearn.feature_extraction.text import TfidfTransformer\n",
    "X_train_counts = count_vect.fit_transform(data)\n",
    "# Comment lines below if you don't want to consider idf transformer\n",
    "tfidf_transformer = TfidfTransformer()\n",
    "X_tfidf = tfidf_transformer.fit_transform(X_train_counts)"
   ]
  },
  {
   "cell_type": "markdown",
   "metadata": {},
   "source": [
    "Visualize a Bag of Words using a graph is difficult since each of the sentences gets represented in a high dimensional space of length equal to the vocabulary. But we can still represent this by a 2D graph using the dimension reduction, for example a PCA with two components.\n",
    "\n",
    "K-means helps finding the cluster centers for each label bag of words in order to improve visualization.\n",
    "The purpose of this algorithm is to use euclidean distance to cluster data according to the number of clusters required.\n",
    "\n",
    "Ps: todense() function takes care of transforming bag of words on a dense matrix since we had a sparse matrix before."
   ]
  },
  {
   "cell_type": "code",
   "execution_count": 1197,
   "metadata": {
    "collapsed": false,
    "scrolled": false
   },
   "outputs": [
    {
     "data": {
      "text/plain": [
       "<matplotlib.collections.PathCollection at 0x2104c3b0>"
      ]
     },
     "execution_count": 1197,
     "metadata": {},
     "output_type": "execute_result"
    },
    {
     "data": {
      "image/png": "[encoded data removed]",
      "text/plain": [
       "<matplotlib.figure.Figure at 0x202c89b0>"
      ]
     },
     "metadata": {},
     "output_type": "display_data"
    }
   ],
   "source": [
    "from sklearn.decomposition import PCA\n",
    "pca = PCA(n_components=2).fit(X_tfidf.todense())\n",
    "data2D = pca.transform(X_tfidf.todense())\n",
    "df['PCA-1'] = pd.Series(np.zeros(len(df)), index=df.index)\n",
    "df['PCA-2'] = pd.Series(np.zeros(len(df)), index=df.index)\n",
    "df.loc[:,'PCA-1'] = data2D[:,0]\n",
    "df.loc[:,'PCA-2'] = data2D[:,1]\n",
    "sns.lmplot(x=\"PCA-1\", y=\"PCA-2\", hue=\"labels\", data=df, fit_reg=False)\n",
    "\n",
    "from sklearn.cluster import KMeans\n",
    "kmeans = KMeans(n_clusters=5).fit(X_tfidf.todense())\n",
    "centers2D = pca.transform(kmeans.cluster_centers_)\n",
    "plt.hold(True)\n",
    "plt.scatter(centers2D[:,0], centers2D[:,1], \n",
    "            marker='x', s=200, linewidths=3, c='r')"
   ]
  },
  {
   "cell_type": "markdown",
   "metadata": {},
   "source": [
    "The multinomial Naive Bayes classifier is suitable for classification with multinomial model. We already have word counts for text classification and labels of each component so let's try to model using this approach. In this case, we're going to consider 80% of entire data as training data and 20% as evaluation data."
   ]
  },
  {
   "cell_type": "code",
   "execution_count": 1198,
   "metadata": {
    "collapsed": false
   },
   "outputs": [],
   "source": [
    "from sklearn.naive_bayes import MultinomialNB\n",
    "X_train_tfidf = X_tfidf[:int(X_tfidf.shape[0] * 0.8)]\n",
    "labels_train = df['labels'][:int(len(df['labels']) * 0.8)]\n",
    "clf = MultinomialNB().fit(X_train_tfidf, labels_train)\n",
    "labels_test = df['labels'][int(len(df['labels']) * 0.8):]\n",
    "X_test_tfidf = X_tfidf[int(X_tfidf.shape[0] * 0.8):]"
   ]
  },
  {
   "cell_type": "markdown",
   "metadata": {},
   "source": [
    "Checking the model accuracy:"
   ]
  },
  {
   "cell_type": "code",
   "execution_count": 1199,
   "metadata": {
    "collapsed": false
   },
   "outputs": [
    {
     "name": "stdout",
     "output_type": "stream",
     "text": [
      "\n",
      "Accuracy Training: 0.816326530612\n"
     ]
    }
   ],
   "source": [
    "predicted = clf.predict(X_test_tfidf)\n",
    "print(\"\\nAccuracy Training: \" + str(np.mean(predicted == labels_test)))"
   ]
  },
  {
   "cell_type": "markdown",
   "metadata": {},
   "source": [
    "# Approach 2: Naive Bayes with pipeline implementation\n",
    "\n",
    "Using a Pipeline simplifies the proccess and instead of manually running through each of these steps, and then tediously repeating them on the test set, you get a nice, declarative interface where it's easy to see the entire model. This example extracts the bag of words, tokenizes them, counts the tokens, and then performs a tf–idf transformation before passing the resulting features along to a multinomial naive Bayes classifier.\n",
    "\n",
    "The purpose of the parameters is to assemble several steps that can be evaluated together while setting different values (Grid Search). As result, we can obtain the best model parameters."
   ]
  },
  {
   "cell_type": "code",
   "execution_count": 1200,
   "metadata": {
    "collapsed": false
   },
   "outputs": [],
   "source": [
    "from sklearn.linear_model import SGDClassifier\n",
    "from sklearn.pipeline import Pipeline\n",
    "from sklearn.grid_search import GridSearchCV\n",
    "\n",
    "text_clf = Pipeline([('vect', CountVectorizer(token_pattern=r\"(?u)\\b[a-zA-Z]\\w+\\b\",stop_words='english',lowercase=True)),\n",
    "                     ('tfidf', TfidfTransformer()),\n",
    "                    #('clf', SGDClassifier( penalty='l2',alpha=1e-3, n_iter=5, random_state=42)),\n",
    "                    ('clf', MultinomialNB())\n",
    "                    ])\n",
    "parameters = {'vect__ngram_range': [(1, 1), (1, 2)],\n",
    "              'vect__max_df': (0.5, 0.75, 1.0),\n",
    "              'tfidf__use_idf': (True, False),\n",
    "              #'clf__alpha': (1e-2, 1e-3),\n",
    "              'tfidf__norm': ('l1', 'l2')\n",
    "              #'clf__loss': ('perceptron', 'hinge','squared_loss','squared_hinge')\n",
    "              }\n",
    "gs_clf = GridSearchCV(text_clf, parameters, n_jobs=-1)\n",
    "text_clf = gs_clf.fit(df['Summary'][:int(len(df['Summary']) * 0.8)], df['labels'][:int(len(df['labels']) * 0.8)])"
   ]
  },
  {
   "cell_type": "markdown",
   "metadata": {},
   "source": [
    "Checking the new model accuracy:"
   ]
  },
  {
   "cell_type": "code",
   "execution_count": 1201,
   "metadata": {
    "collapsed": false
   },
   "outputs": [
    {
     "name": "stdout",
     "output_type": "stream",
     "text": [
      "\n",
      "Accuracy Training: 0.960714285714\n"
     ]
    }
   ],
   "source": [
    "predicted = text_clf.predict(df['Summary'][int(len(df['Summary']) * 0.2):])\n",
    "print(\"\\nAccuracy Training: \" + str(np.mean(predicted == df['labels'][int(len(df['labels']) * 0.2):])))"
   ]
  }
 ],
 "metadata": {
  "kernelspec": {
   "display_name": "Python 3",
   "language": "python",
   "name": "python3"
  },
  "language_info": {
   "codemirror_mode": {
    "name": "ipython",
    "version": 3
   },
   "file_extension": ".py",
   "mimetype": "text/x-python",
   "name": "python",
   "nbconvert_exporter": "python",
   "pygments_lexer": "ipython3",
   "version": "3.5.0"
  }
 },
 "nbformat": 4,
 "nbformat_minor": 1
}
