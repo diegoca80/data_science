{
 "cells": [
  {
   "cell_type": "code",
   "execution_count": 27,
   "metadata": {
    "collapsed": true
   },
   "outputs": [],
   "source": [
    "import numpy as np\n",
    "import pandas as pd # Pandas is an easy-to-use data structures and data analysis tools\n",
    "pd.set_option('display.max_columns', None) # To display all columns"
   ]
  },
  {
   "cell_type": "code",
   "execution_count": 28,
   "metadata": {
    "collapsed": true
   },
   "outputs": [],
   "source": [
    "df = pd.read_csv(\"dataset.csv\")"
   ]
  },
  {
   "cell_type": "code",
   "execution_count": 29,
   "metadata": {
    "collapsed": false
   },
   "outputs": [
    {
     "data": {
      "text/html": [
       "<div>\n",
       "<table border=\"1\" class=\"dataframe\">\n",
       "  <thead>\n",
       "    <tr style=\"text-align: right;\">\n",
       "      <th></th>\n",
       "      <th>Bug ID</th>\n",
       "      <th>Product</th>\n",
       "      <th>Component</th>\n",
       "      <th>Assignee</th>\n",
       "      <th>Status</th>\n",
       "      <th>Resolution</th>\n",
       "      <th>Summary</th>\n",
       "      <th>Changed</th>\n",
       "      <th>Assignee Real Name</th>\n",
       "      <th>Classification</th>\n",
       "      <th>Flags</th>\n",
       "      <th>Hardware</th>\n",
       "      <th>Keywords</th>\n",
       "      <th>Number of Comments</th>\n",
       "      <th>Opened</th>\n",
       "      <th>OS</th>\n",
       "      <th>Priority</th>\n",
       "      <th>QA Contact</th>\n",
       "      <th>QA Contact Real Name</th>\n",
       "      <th>Reporter</th>\n",
       "      <th>Reporter Real Name</th>\n",
       "      <th>Severity</th>\n",
       "      <th>Summary.1</th>\n",
       "      <th>Tags</th>\n",
       "      <th>Target Milestone</th>\n",
       "      <th>URL</th>\n",
       "      <th>Version</th>\n",
       "      <th>Votes</th>\n",
       "      <th>Whiteboard</th>\n",
       "      <th>Alias</th>\n",
       "    </tr>\n",
       "  </thead>\n",
       "  <tbody>\n",
       "    <tr>\n",
       "      <th>0</th>\n",
       "      <td>3638</td>\n",
       "      <td>JDT</td>\n",
       "      <td>UI</td>\n",
       "      <td>aeschli</td>\n",
       "      <td>VERIFIED</td>\n",
       "      <td>FIXED</td>\n",
       "      <td>Package Viewer: order resource folders before ...</td>\n",
       "      <td>2002-01-17 07:28:04</td>\n",
       "      <td>Martin Aeschlimann</td>\n",
       "      <td>Eclipse</td>\n",
       "      <td>NaN</td>\n",
       "      <td>All</td>\n",
       "      <td>NaN</td>\n",
       "      <td>3</td>\n",
       "      <td>2001-10-10 22:58:24</td>\n",
       "      <td>Windows NT</td>\n",
       "      <td>P1</td>\n",
       "      <td>NaN</td>\n",
       "      <td>NaN</td>\n",
       "      <td>aeschli</td>\n",
       "      <td>Martin Aeschlimann</td>\n",
       "      <td>major</td>\n",
       "      <td>Package Viewer: order resource folders before ...</td>\n",
       "      <td>NaN</td>\n",
       "      <td>---</td>\n",
       "      <td>NaN</td>\n",
       "      <td>2.0</td>\n",
       "      <td>0</td>\n",
       "      <td>NaN</td>\n",
       "      <td>NaN</td>\n",
       "    </tr>\n",
       "    <tr>\n",
       "      <th>1</th>\n",
       "      <td>3854</td>\n",
       "      <td>JDT</td>\n",
       "      <td>UI</td>\n",
       "      <td>aeschli</td>\n",
       "      <td>VERIFIED</td>\n",
       "      <td>FIXED</td>\n",
       "      <td>Wrong execution's classpath. (1GEY0W0)</td>\n",
       "      <td>2002-01-18 04:02:11</td>\n",
       "      <td>Martin Aeschlimann</td>\n",
       "      <td>Eclipse</td>\n",
       "      <td>NaN</td>\n",
       "      <td>All</td>\n",
       "      <td>NaN</td>\n",
       "      <td>5</td>\n",
       "      <td>2001-10-10 23:01:58</td>\n",
       "      <td>Windows NT</td>\n",
       "      <td>P1</td>\n",
       "      <td>NaN</td>\n",
       "      <td>NaN</td>\n",
       "      <td>david_audel</td>\n",
       "      <td>David Audel</td>\n",
       "      <td>normal</td>\n",
       "      <td>Wrong execution's classpath. (1GEY0W0)</td>\n",
       "      <td>NaN</td>\n",
       "      <td>---</td>\n",
       "      <td>NaN</td>\n",
       "      <td>2.0</td>\n",
       "      <td>0</td>\n",
       "      <td>NaN</td>\n",
       "      <td>NaN</td>\n",
       "    </tr>\n",
       "    <tr>\n",
       "      <th>2</th>\n",
       "      <td>4188</td>\n",
       "      <td>JDT</td>\n",
       "      <td>UI</td>\n",
       "      <td>aeschli</td>\n",
       "      <td>VERIFIED</td>\n",
       "      <td>FIXED</td>\n",
       "      <td>type hierachy - typo (1GJW2XJ)</td>\n",
       "      <td>2002-01-28 03:12:37</td>\n",
       "      <td>Martin Aeschlimann</td>\n",
       "      <td>Eclipse</td>\n",
       "      <td>NaN</td>\n",
       "      <td>All</td>\n",
       "      <td>NaN</td>\n",
       "      <td>3</td>\n",
       "      <td>2001-10-10 23:07:31</td>\n",
       "      <td>Windows 2000</td>\n",
       "      <td>P1</td>\n",
       "      <td>NaN</td>\n",
       "      <td>NaN</td>\n",
       "      <td>erich_gamma</td>\n",
       "      <td>Erich Gamma</td>\n",
       "      <td>normal</td>\n",
       "      <td>type hierachy - typo (1GJW2XJ)</td>\n",
       "      <td>NaN</td>\n",
       "      <td>---</td>\n",
       "      <td>NaN</td>\n",
       "      <td>2.0</td>\n",
       "      <td>0</td>\n",
       "      <td>NaN</td>\n",
       "      <td>NaN</td>\n",
       "    </tr>\n",
       "    <tr>\n",
       "      <th>3</th>\n",
       "      <td>5115</td>\n",
       "      <td>JDT</td>\n",
       "      <td>Debug</td>\n",
       "      <td>aeschli</td>\n",
       "      <td>VERIFIED</td>\n",
       "      <td>FIXED</td>\n",
       "      <td>Workspace source locator fails with mulitple p...</td>\n",
       "      <td>2001-11-13 10:11:09</td>\n",
       "      <td>Martin Aeschlimann</td>\n",
       "      <td>Eclipse</td>\n",
       "      <td>NaN</td>\n",
       "      <td>PC</td>\n",
       "      <td>NaN</td>\n",
       "      <td>10</td>\n",
       "      <td>2001-10-19 13:41:25</td>\n",
       "      <td>Windows 2000</td>\n",
       "      <td>P1</td>\n",
       "      <td>NaN</td>\n",
       "      <td>NaN</td>\n",
       "      <td>darin.eclipse</td>\n",
       "      <td>Darin Wright</td>\n",
       "      <td>normal</td>\n",
       "      <td>Workspace source locator fails with mulitple p...</td>\n",
       "      <td>NaN</td>\n",
       "      <td>---</td>\n",
       "      <td>NaN</td>\n",
       "      <td>2.0</td>\n",
       "      <td>0</td>\n",
       "      <td>NaN</td>\n",
       "      <td>NaN</td>\n",
       "    </tr>\n",
       "    <tr>\n",
       "      <th>4</th>\n",
       "      <td>5820</td>\n",
       "      <td>JDT</td>\n",
       "      <td>UI</td>\n",
       "      <td>aeschli</td>\n",
       "      <td>VERIFIED</td>\n",
       "      <td>FIXED</td>\n",
       "      <td>Close all editors brings up hierarchy of object</td>\n",
       "      <td>2001-11-20 16:22:35</td>\n",
       "      <td>Martin Aeschlimann</td>\n",
       "      <td>Eclipse</td>\n",
       "      <td>NaN</td>\n",
       "      <td>PC</td>\n",
       "      <td>NaN</td>\n",
       "      <td>5</td>\n",
       "      <td>2001-11-12 18:18:05</td>\n",
       "      <td>Windows 2000</td>\n",
       "      <td>P1</td>\n",
       "      <td>NaN</td>\n",
       "      <td>NaN</td>\n",
       "      <td>jed.anderson</td>\n",
       "      <td>Jed Anderson</td>\n",
       "      <td>normal</td>\n",
       "      <td>Close all editors brings up hierarchy of object</td>\n",
       "      <td>NaN</td>\n",
       "      <td>---</td>\n",
       "      <td>NaN</td>\n",
       "      <td>2.0</td>\n",
       "      <td>0</td>\n",
       "      <td>NaN</td>\n",
       "      <td>NaN</td>\n",
       "    </tr>\n",
       "  </tbody>\n",
       "</table>\n",
       "</div>"
      ],
      "text/plain": [
       "   Bug ID Product Component Assignee    Status Resolution  \\\n",
       "0    3638     JDT        UI  aeschli  VERIFIED      FIXED   \n",
       "1    3854     JDT        UI  aeschli  VERIFIED      FIXED   \n",
       "2    4188     JDT        UI  aeschli  VERIFIED      FIXED   \n",
       "3    5115     JDT     Debug  aeschli  VERIFIED      FIXED   \n",
       "4    5820     JDT        UI  aeschli  VERIFIED      FIXED   \n",
       "\n",
       "                                             Summary              Changed  \\\n",
       "0  Package Viewer: order resource folders before ...  2002-01-17 07:28:04   \n",
       "1             Wrong execution's classpath. (1GEY0W0)  2002-01-18 04:02:11   \n",
       "2                     type hierachy - typo (1GJW2XJ)  2002-01-28 03:12:37   \n",
       "3  Workspace source locator fails with mulitple p...  2001-11-13 10:11:09   \n",
       "4    Close all editors brings up hierarchy of object  2001-11-20 16:22:35   \n",
       "\n",
       "   Assignee Real Name Classification Flags Hardware Keywords  \\\n",
       "0  Martin Aeschlimann        Eclipse   NaN      All      NaN   \n",
       "1  Martin Aeschlimann        Eclipse   NaN      All      NaN   \n",
       "2  Martin Aeschlimann        Eclipse   NaN      All      NaN   \n",
       "3  Martin Aeschlimann        Eclipse   NaN       PC      NaN   \n",
       "4  Martin Aeschlimann        Eclipse   NaN       PC      NaN   \n",
       "\n",
       "   Number of Comments               Opened            OS Priority QA Contact  \\\n",
       "0                   3  2001-10-10 22:58:24    Windows NT       P1        NaN   \n",
       "1                   5  2001-10-10 23:01:58    Windows NT       P1        NaN   \n",
       "2                   3  2001-10-10 23:07:31  Windows 2000       P1        NaN   \n",
       "3                  10  2001-10-19 13:41:25  Windows 2000       P1        NaN   \n",
       "4                   5  2001-11-12 18:18:05  Windows 2000       P1        NaN   \n",
       "\n",
       "  QA Contact Real Name       Reporter  Reporter Real Name Severity  \\\n",
       "0                  NaN        aeschli  Martin Aeschlimann    major   \n",
       "1                  NaN    david_audel         David Audel   normal   \n",
       "2                  NaN    erich_gamma         Erich Gamma   normal   \n",
       "3                  NaN  darin.eclipse        Darin Wright   normal   \n",
       "4                  NaN   jed.anderson        Jed Anderson   normal   \n",
       "\n",
       "                                           Summary.1  Tags Target Milestone  \\\n",
       "0  Package Viewer: order resource folders before ...   NaN              ---   \n",
       "1             Wrong execution's classpath. (1GEY0W0)   NaN              ---   \n",
       "2                     type hierachy - typo (1GJW2XJ)   NaN              ---   \n",
       "3  Workspace source locator fails with mulitple p...   NaN              ---   \n",
       "4    Close all editors brings up hierarchy of object   NaN              ---   \n",
       "\n",
       "   URL Version  Votes Whiteboard  Alias  \n",
       "0  NaN     2.0      0        NaN    NaN  \n",
       "1  NaN     2.0      0        NaN    NaN  \n",
       "2  NaN     2.0      0        NaN    NaN  \n",
       "3  NaN     2.0      0        NaN    NaN  \n",
       "4  NaN     2.0      0        NaN    NaN  "
      ]
     },
     "execution_count": 29,
     "metadata": {},
     "output_type": "execute_result"
    }
   ],
   "source": [
    "df.head()"
   ]
  },
  {
   "cell_type": "code",
   "execution_count": 30,
   "metadata": {
    "collapsed": false,
    "scrolled": true
   },
   "outputs": [
    {
     "data": {
      "text/plain": [
       "UI                                          4019\n",
       "Debug                                       2928\n",
       "Text                                         875\n",
       "Ant                                          729\n",
       "Core                                         490\n",
       "SWT                                          145\n",
       "User Assistance                              116\n",
       "Releng                                       104\n",
       "Doc                                           90\n",
       "Compare                                       85\n",
       "Team                                          85\n",
       "IDE                                           71\n",
       "Search                                        68\n",
       "API Tools                                     60\n",
       "CVS                                           52\n",
       "Update  (deprecated - use RT>Equinox>p2)      31\n",
       "Resources                                     18\n",
       "Runtime                                       10\n",
       "Build                                         10\n",
       "APT                                            9\n",
       "PMC                                            3\n",
       "Incubators                                     1\n",
       "Website                                        1\n",
       "Name: Component, dtype: int64"
      ]
     },
     "execution_count": 30,
     "metadata": {},
     "output_type": "execute_result"
    }
   ],
   "source": [
    "df['Component'].value_counts()"
   ]
  },
  {
   "cell_type": "code",
   "execution_count": 31,
   "metadata": {
    "collapsed": true
   },
   "outputs": [],
   "source": [
    "df['Component'] = df['Component'].astype('str')"
   ]
  },
  {
   "cell_type": "code",
   "execution_count": 32,
   "metadata": {
    "collapsed": true
   },
   "outputs": [],
   "source": [
    "with open(\"dataset.csv\", 'r', encoding=\"utf8\") as f:\n",
    "    lines = f.readlines()\n",
    "    components = []\n",
    "    assignees = []\n",
    "    summaries = []\n",
    "    labels = []\n",
    "    for d in lines:\n",
    "        bugid,product,component,assignee,status,resolution,summary,_ = d.split(',')[:8]\n",
    "        if(component == '\"UI\"'):\n",
    "            labels.append(1)\n",
    "        elif(component == '\"Debug\"'):\n",
    "            labels.append(0)\n",
    "        elif(component == '\"Text\"'):\n",
    "            labels.append(2)\n",
    "        elif(component == '\"Ant\"'):\n",
    "            labels.append(3)\n",
    "        elif(component == '\"Core\"'):\n",
    "            labels.append(4)\n",
    "        else:\n",
    "            labels.append(5)\n",
    "        components.append(component)\n",
    "        assignees.append(assignee)\n",
    "        summaries.append(summary)\n",
    "    len(labels)"
   ]
  },
  {
   "cell_type": "code",
   "execution_count": 33,
   "metadata": {
    "collapsed": true
   },
   "outputs": [],
   "source": [
    "from sklearn.feature_extraction.text import CountVectorizer\n",
    "count_vect = CountVectorizer(token_pattern=r\"(?u)\\b[a-zA-Z][a-zA-Z][a-zA-Z]\\w+\\b\")\n",
    "data = []\n",
    "for i in summaries:\n",
    "    data.append(i.strip())"
   ]
  },
  {
   "cell_type": "code",
   "execution_count": 34,
   "metadata": {
    "collapsed": true
   },
   "outputs": [],
   "source": [
    "from sklearn.feature_extraction.text import TfidfTransformer\n",
    "X_train_counts = count_vect.fit_transform(data)\n",
    "tfidf_transformer = TfidfTransformer()\n",
    "X_train_tfidf = tfidf_transformer.fit_transform(X_train_counts)"
   ]
  },
  {
   "cell_type": "code",
   "execution_count": 35,
   "metadata": {
    "collapsed": true
   },
   "outputs": [],
   "source": [
    "X_train_tfidf = X_train_tfidf[:int(X_train_tfidf.shape[0] * 0.7)]"
   ]
  },
  {
   "cell_type": "code",
   "execution_count": 36,
   "metadata": {
    "collapsed": true
   },
   "outputs": [],
   "source": [
    "from sklearn.naive_bayes import MultinomialNB\n",
    "labels = labels[:int(len(labels) * 0.7)]\n",
    "clf = MultinomialNB().fit(X_train_tfidf, labels)"
   ]
  },
  {
   "cell_type": "code",
   "execution_count": 37,
   "metadata": {
    "collapsed": true
   },
   "outputs": [],
   "source": [
    "labels_test = labels[int(len(labels) * 0.7):]\n",
    "X_test_tfidf = X_train_tfidf[int(X_train_tfidf.shape[0] * 0.7):]"
   ]
  },
  {
   "cell_type": "code",
   "execution_count": 38,
   "metadata": {
    "collapsed": true
   },
   "outputs": [],
   "source": [
    "predicted = clf.predict(X_test_tfidf)"
   ]
  },
  {
   "cell_type": "code",
   "execution_count": 39,
   "metadata": {
    "collapsed": false
   },
   "outputs": [
    {
     "name": "stdout",
     "output_type": "stream",
     "text": [
      "\n",
      "Accuracy Training: 0.662380952381\n"
     ]
    }
   ],
   "source": [
    "print(\"\\nAccuracy Training: \" + str(np.mean(predicted == labels_test)))"
   ]
  },
  {
   "cell_type": "code",
   "execution_count": null,
   "metadata": {
    "collapsed": true
   },
   "outputs": [],
   "source": []
  }
 ],
 "metadata": {
  "kernelspec": {
   "display_name": "Python 3",
   "language": "python",
   "name": "python3"
  },
  "language_info": {
   "codemirror_mode": {
    "name": "ipython",
    "version": 3
   },
   "file_extension": ".py",
   "mimetype": "text/x-python",
   "name": "python",
   "nbconvert_exporter": "python",
   "pygments_lexer": "ipython3",
   "version": "3.5.0"
  }
 },
 "nbformat": 4,
 "nbformat_minor": 1
}
