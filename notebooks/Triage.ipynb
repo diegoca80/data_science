{
 "cells": [
  {
   "cell_type": "markdown",
   "metadata": {},
   "source": [
    "# Automatic Triage using Machine Learning\n",
    "This project was developed in order to help triage proccess making it faster and more accurated.\n",
    "The dataset used was provided by Kaggle user and can be found at:\n",
    "https://www.kaggle.com/monika11/bug-triagingbug-assignment\n",
    "\n",
    "The idea is the use of machine learning algorithms to automatically categorize issues to the proper component. As the dataset provided was too unbalanced with some components having only few samples, the workaround choosen was to develop a model considering the five most common components.\n",
    "\n",
    "Feel free to contact me if you have any questions."
   ]
  },
  {
   "cell_type": "code",
   "execution_count": 27,
   "metadata": {
    "collapsed": false
   },
   "outputs": [],
   "source": [
    "import numpy as np\n",
    "import pandas as pd # Pandas is an easy-to-use data structures and data analysis tools\n",
    "import matplotlib.pyplot as plt # Matplot is a common Python lib for plotting\n",
    "%matplotlib inline\n",
    "import seaborn as sns # Seaborn is a great tool for data analysis graphs\n",
    "# pd.set_option('display.max_columns', None) # To display all columns"
   ]
  },
  {
   "cell_type": "markdown",
   "metadata": {},
   "source": [
    "Read the entire dataset provided using pandas"
   ]
  },
  {
   "cell_type": "code",
   "execution_count": 28,
   "metadata": {
    "collapsed": true
   },
   "outputs": [],
   "source": [
    "df = pd.read_csv(\"dataset.csv\")"
   ]
  },
  {
   "cell_type": "markdown",
   "metadata": {},
   "source": [
    "Use of head() function to provide the first 5 lines of the dataset"
   ]
  },
  {
   "cell_type": "code",
   "execution_count": 29,
   "metadata": {
    "collapsed": false,
    "scrolled": true
   },
   "outputs": [
    {
     "data": {
      "text/html": [
       "<div>\n",
       "<table border=\"1\" class=\"dataframe\">\n",
       "  <thead>\n",
       "    <tr style=\"text-align: right;\">\n",
       "      <th></th>\n",
       "      <th>Bug ID</th>\n",
       "      <th>Product</th>\n",
       "      <th>Component</th>\n",
       "      <th>Assignee</th>\n",
       "      <th>Status</th>\n",
       "      <th>Resolution</th>\n",
       "      <th>Summary</th>\n",
       "      <th>Changed</th>\n",
       "      <th>Assignee Real Name</th>\n",
       "      <th>Classification</th>\n",
       "      <th>...</th>\n",
       "      <th>Reporter Real Name</th>\n",
       "      <th>Severity</th>\n",
       "      <th>Summary.1</th>\n",
       "      <th>Tags</th>\n",
       "      <th>Target Milestone</th>\n",
       "      <th>URL</th>\n",
       "      <th>Version</th>\n",
       "      <th>Votes</th>\n",
       "      <th>Whiteboard</th>\n",
       "      <th>Alias</th>\n",
       "    </tr>\n",
       "  </thead>\n",
       "  <tbody>\n",
       "    <tr>\n",
       "      <th>0</th>\n",
       "      <td>3638</td>\n",
       "      <td>JDT</td>\n",
       "      <td>UI</td>\n",
       "      <td>aeschli</td>\n",
       "      <td>VERIFIED</td>\n",
       "      <td>FIXED</td>\n",
       "      <td>Package Viewer: order resource folders before ...</td>\n",
       "      <td>2002-01-17 07:28:04</td>\n",
       "      <td>Martin Aeschlimann</td>\n",
       "      <td>Eclipse</td>\n",
       "      <td>...</td>\n",
       "      <td>Martin Aeschlimann</td>\n",
       "      <td>major</td>\n",
       "      <td>Package Viewer: order resource folders before ...</td>\n",
       "      <td>NaN</td>\n",
       "      <td>---</td>\n",
       "      <td>NaN</td>\n",
       "      <td>2.0</td>\n",
       "      <td>0</td>\n",
       "      <td>NaN</td>\n",
       "      <td>NaN</td>\n",
       "    </tr>\n",
       "    <tr>\n",
       "      <th>1</th>\n",
       "      <td>3854</td>\n",
       "      <td>JDT</td>\n",
       "      <td>UI</td>\n",
       "      <td>aeschli</td>\n",
       "      <td>VERIFIED</td>\n",
       "      <td>FIXED</td>\n",
       "      <td>Wrong execution's classpath. (1GEY0W0)</td>\n",
       "      <td>2002-01-18 04:02:11</td>\n",
       "      <td>Martin Aeschlimann</td>\n",
       "      <td>Eclipse</td>\n",
       "      <td>...</td>\n",
       "      <td>David Audel</td>\n",
       "      <td>normal</td>\n",
       "      <td>Wrong execution's classpath. (1GEY0W0)</td>\n",
       "      <td>NaN</td>\n",
       "      <td>---</td>\n",
       "      <td>NaN</td>\n",
       "      <td>2.0</td>\n",
       "      <td>0</td>\n",
       "      <td>NaN</td>\n",
       "      <td>NaN</td>\n",
       "    </tr>\n",
       "    <tr>\n",
       "      <th>2</th>\n",
       "      <td>4188</td>\n",
       "      <td>JDT</td>\n",
       "      <td>UI</td>\n",
       "      <td>aeschli</td>\n",
       "      <td>VERIFIED</td>\n",
       "      <td>FIXED</td>\n",
       "      <td>type hierachy - typo (1GJW2XJ)</td>\n",
       "      <td>2002-01-28 03:12:37</td>\n",
       "      <td>Martin Aeschlimann</td>\n",
       "      <td>Eclipse</td>\n",
       "      <td>...</td>\n",
       "      <td>Erich Gamma</td>\n",
       "      <td>normal</td>\n",
       "      <td>type hierachy - typo (1GJW2XJ)</td>\n",
       "      <td>NaN</td>\n",
       "      <td>---</td>\n",
       "      <td>NaN</td>\n",
       "      <td>2.0</td>\n",
       "      <td>0</td>\n",
       "      <td>NaN</td>\n",
       "      <td>NaN</td>\n",
       "    </tr>\n",
       "    <tr>\n",
       "      <th>3</th>\n",
       "      <td>5115</td>\n",
       "      <td>JDT</td>\n",
       "      <td>Debug</td>\n",
       "      <td>aeschli</td>\n",
       "      <td>VERIFIED</td>\n",
       "      <td>FIXED</td>\n",
       "      <td>Workspace source locator fails with mulitple p...</td>\n",
       "      <td>2001-11-13 10:11:09</td>\n",
       "      <td>Martin Aeschlimann</td>\n",
       "      <td>Eclipse</td>\n",
       "      <td>...</td>\n",
       "      <td>Darin Wright</td>\n",
       "      <td>normal</td>\n",
       "      <td>Workspace source locator fails with mulitple p...</td>\n",
       "      <td>NaN</td>\n",
       "      <td>---</td>\n",
       "      <td>NaN</td>\n",
       "      <td>2.0</td>\n",
       "      <td>0</td>\n",
       "      <td>NaN</td>\n",
       "      <td>NaN</td>\n",
       "    </tr>\n",
       "    <tr>\n",
       "      <th>4</th>\n",
       "      <td>5820</td>\n",
       "      <td>JDT</td>\n",
       "      <td>UI</td>\n",
       "      <td>aeschli</td>\n",
       "      <td>VERIFIED</td>\n",
       "      <td>FIXED</td>\n",
       "      <td>Close all editors brings up hierarchy of object</td>\n",
       "      <td>2001-11-20 16:22:35</td>\n",
       "      <td>Martin Aeschlimann</td>\n",
       "      <td>Eclipse</td>\n",
       "      <td>...</td>\n",
       "      <td>Jed Anderson</td>\n",
       "      <td>normal</td>\n",
       "      <td>Close all editors brings up hierarchy of object</td>\n",
       "      <td>NaN</td>\n",
       "      <td>---</td>\n",
       "      <td>NaN</td>\n",
       "      <td>2.0</td>\n",
       "      <td>0</td>\n",
       "      <td>NaN</td>\n",
       "      <td>NaN</td>\n",
       "    </tr>\n",
       "  </tbody>\n",
       "</table>\n",
       "<p>5 rows × 30 columns</p>\n",
       "</div>"
      ],
      "text/plain": [
       "   Bug ID Product Component Assignee    Status Resolution  \\\n",
       "0    3638     JDT        UI  aeschli  VERIFIED      FIXED   \n",
       "1    3854     JDT        UI  aeschli  VERIFIED      FIXED   \n",
       "2    4188     JDT        UI  aeschli  VERIFIED      FIXED   \n",
       "3    5115     JDT     Debug  aeschli  VERIFIED      FIXED   \n",
       "4    5820     JDT        UI  aeschli  VERIFIED      FIXED   \n",
       "\n",
       "                                             Summary              Changed  \\\n",
       "0  Package Viewer: order resource folders before ...  2002-01-17 07:28:04   \n",
       "1             Wrong execution's classpath. (1GEY0W0)  2002-01-18 04:02:11   \n",
       "2                     type hierachy - typo (1GJW2XJ)  2002-01-28 03:12:37   \n",
       "3  Workspace source locator fails with mulitple p...  2001-11-13 10:11:09   \n",
       "4    Close all editors brings up hierarchy of object  2001-11-20 16:22:35   \n",
       "\n",
       "   Assignee Real Name Classification  ...   Reporter Real Name Severity  \\\n",
       "0  Martin Aeschlimann        Eclipse  ...   Martin Aeschlimann    major   \n",
       "1  Martin Aeschlimann        Eclipse  ...          David Audel   normal   \n",
       "2  Martin Aeschlimann        Eclipse  ...          Erich Gamma   normal   \n",
       "3  Martin Aeschlimann        Eclipse  ...         Darin Wright   normal   \n",
       "4  Martin Aeschlimann        Eclipse  ...         Jed Anderson   normal   \n",
       "\n",
       "                                           Summary.1  Tags Target Milestone  \\\n",
       "0  Package Viewer: order resource folders before ...   NaN              ---   \n",
       "1             Wrong execution's classpath. (1GEY0W0)   NaN              ---   \n",
       "2                     type hierachy - typo (1GJW2XJ)   NaN              ---   \n",
       "3  Workspace source locator fails with mulitple p...   NaN              ---   \n",
       "4    Close all editors brings up hierarchy of object   NaN              ---   \n",
       "\n",
       "   URL Version Votes Whiteboard Alias  \n",
       "0  NaN     2.0     0        NaN   NaN  \n",
       "1  NaN     2.0     0        NaN   NaN  \n",
       "2  NaN     2.0     0        NaN   NaN  \n",
       "3  NaN     2.0     0        NaN   NaN  \n",
       "4  NaN     2.0     0        NaN   NaN  \n",
       "\n",
       "[5 rows x 30 columns]"
      ]
     },
     "execution_count": 29,
     "metadata": {},
     "output_type": "execute_result"
    }
   ],
   "source": [
    "df.head()"
   ]
  },
  {
   "cell_type": "markdown",
   "metadata": {},
   "source": [
    "Total count for each component.\n",
    "Here we can see that some components only have few samples and for this project we're going to consider only the five most common ones."
   ]
  },
  {
   "cell_type": "code",
   "execution_count": 30,
   "metadata": {
    "collapsed": false,
    "scrolled": false
   },
   "outputs": [
    {
     "data": {
      "text/plain": [
       "UI                                          4019\n",
       "Debug                                       2928\n",
       "Text                                         875\n",
       "Ant                                          729\n",
       "Core                                         490\n",
       "SWT                                          145\n",
       "User Assistance                              116\n",
       "Releng                                       104\n",
       "Doc                                           90\n",
       "Compare                                       85\n",
       "Team                                          85\n",
       "IDE                                           71\n",
       "Search                                        68\n",
       "API Tools                                     60\n",
       "CVS                                           52\n",
       "Update  (deprecated - use RT>Equinox>p2)      31\n",
       "Resources                                     18\n",
       "Build                                         10\n",
       "Runtime                                       10\n",
       "APT                                            9\n",
       "PMC                                            3\n",
       "Website                                        1\n",
       "Incubators                                     1\n",
       "Name: Component, dtype: int64"
      ]
     },
     "execution_count": 30,
     "metadata": {},
     "output_type": "execute_result"
    }
   ],
   "source": [
    "df['Component'].value_counts()"
   ]
  },
  {
   "cell_type": "code",
   "execution_count": 31,
   "metadata": {
    "collapsed": false
   },
   "outputs": [
    {
     "data": {
      "text/html": [
       "<div>\n",
       "<table border=\"1\" class=\"dataframe\">\n",
       "  <thead>\n",
       "    <tr style=\"text-align: right;\">\n",
       "      <th></th>\n",
       "      <th>Bug ID</th>\n",
       "      <th>Product</th>\n",
       "      <th>Component</th>\n",
       "      <th>Assignee</th>\n",
       "      <th>Status</th>\n",
       "      <th>Resolution</th>\n",
       "      <th>Summary</th>\n",
       "      <th>Changed</th>\n",
       "      <th>Assignee Real Name</th>\n",
       "      <th>Classification</th>\n",
       "      <th>...</th>\n",
       "      <th>Summary.1</th>\n",
       "      <th>Tags</th>\n",
       "      <th>Target Milestone</th>\n",
       "      <th>URL</th>\n",
       "      <th>Version</th>\n",
       "      <th>Votes</th>\n",
       "      <th>Whiteboard</th>\n",
       "      <th>Alias</th>\n",
       "      <th>Count</th>\n",
       "      <th>Weight</th>\n",
       "    </tr>\n",
       "  </thead>\n",
       "  <tbody>\n",
       "    <tr>\n",
       "      <th>0</th>\n",
       "      <td>3638</td>\n",
       "      <td>JDT</td>\n",
       "      <td>UI</td>\n",
       "      <td>aeschli</td>\n",
       "      <td>VERIFIED</td>\n",
       "      <td>FIXED</td>\n",
       "      <td>Package Viewer: order resource folders before ...</td>\n",
       "      <td>2002-01-17 07:28:04</td>\n",
       "      <td>Martin Aeschlimann</td>\n",
       "      <td>Eclipse</td>\n",
       "      <td>...</td>\n",
       "      <td>Package Viewer: order resource folders before ...</td>\n",
       "      <td>NaN</td>\n",
       "      <td>---</td>\n",
       "      <td>NaN</td>\n",
       "      <td>2.0</td>\n",
       "      <td>0</td>\n",
       "      <td>NaN</td>\n",
       "      <td>NaN</td>\n",
       "      <td>4019</td>\n",
       "      <td>2.488181</td>\n",
       "    </tr>\n",
       "    <tr>\n",
       "      <th>1</th>\n",
       "      <td>3854</td>\n",
       "      <td>JDT</td>\n",
       "      <td>UI</td>\n",
       "      <td>aeschli</td>\n",
       "      <td>VERIFIED</td>\n",
       "      <td>FIXED</td>\n",
       "      <td>Wrong execution's classpath. (1GEY0W0)</td>\n",
       "      <td>2002-01-18 04:02:11</td>\n",
       "      <td>Martin Aeschlimann</td>\n",
       "      <td>Eclipse</td>\n",
       "      <td>...</td>\n",
       "      <td>Wrong execution's classpath. (1GEY0W0)</td>\n",
       "      <td>NaN</td>\n",
       "      <td>---</td>\n",
       "      <td>NaN</td>\n",
       "      <td>2.0</td>\n",
       "      <td>0</td>\n",
       "      <td>NaN</td>\n",
       "      <td>NaN</td>\n",
       "      <td>4019</td>\n",
       "      <td>2.488181</td>\n",
       "    </tr>\n",
       "    <tr>\n",
       "      <th>2</th>\n",
       "      <td>4188</td>\n",
       "      <td>JDT</td>\n",
       "      <td>UI</td>\n",
       "      <td>aeschli</td>\n",
       "      <td>VERIFIED</td>\n",
       "      <td>FIXED</td>\n",
       "      <td>type hierachy - typo (1GJW2XJ)</td>\n",
       "      <td>2002-01-28 03:12:37</td>\n",
       "      <td>Martin Aeschlimann</td>\n",
       "      <td>Eclipse</td>\n",
       "      <td>...</td>\n",
       "      <td>type hierachy - typo (1GJW2XJ)</td>\n",
       "      <td>NaN</td>\n",
       "      <td>---</td>\n",
       "      <td>NaN</td>\n",
       "      <td>2.0</td>\n",
       "      <td>0</td>\n",
       "      <td>NaN</td>\n",
       "      <td>NaN</td>\n",
       "      <td>4019</td>\n",
       "      <td>2.488181</td>\n",
       "    </tr>\n",
       "    <tr>\n",
       "      <th>3</th>\n",
       "      <td>5115</td>\n",
       "      <td>JDT</td>\n",
       "      <td>Debug</td>\n",
       "      <td>aeschli</td>\n",
       "      <td>VERIFIED</td>\n",
       "      <td>FIXED</td>\n",
       "      <td>Workspace source locator fails with mulitple p...</td>\n",
       "      <td>2001-11-13 10:11:09</td>\n",
       "      <td>Martin Aeschlimann</td>\n",
       "      <td>Eclipse</td>\n",
       "      <td>...</td>\n",
       "      <td>Workspace source locator fails with mulitple p...</td>\n",
       "      <td>NaN</td>\n",
       "      <td>---</td>\n",
       "      <td>NaN</td>\n",
       "      <td>2.0</td>\n",
       "      <td>0</td>\n",
       "      <td>NaN</td>\n",
       "      <td>NaN</td>\n",
       "      <td>2928</td>\n",
       "      <td>3.415301</td>\n",
       "    </tr>\n",
       "    <tr>\n",
       "      <th>4</th>\n",
       "      <td>5820</td>\n",
       "      <td>JDT</td>\n",
       "      <td>UI</td>\n",
       "      <td>aeschli</td>\n",
       "      <td>VERIFIED</td>\n",
       "      <td>FIXED</td>\n",
       "      <td>Close all editors brings up hierarchy of object</td>\n",
       "      <td>2001-11-20 16:22:35</td>\n",
       "      <td>Martin Aeschlimann</td>\n",
       "      <td>Eclipse</td>\n",
       "      <td>...</td>\n",
       "      <td>Close all editors brings up hierarchy of object</td>\n",
       "      <td>NaN</td>\n",
       "      <td>---</td>\n",
       "      <td>NaN</td>\n",
       "      <td>2.0</td>\n",
       "      <td>0</td>\n",
       "      <td>NaN</td>\n",
       "      <td>NaN</td>\n",
       "      <td>4019</td>\n",
       "      <td>2.488181</td>\n",
       "    </tr>\n",
       "  </tbody>\n",
       "</table>\n",
       "<p>5 rows × 32 columns</p>\n",
       "</div>"
      ],
      "text/plain": [
       "   Bug ID Product Component Assignee    Status Resolution  \\\n",
       "0    3638     JDT        UI  aeschli  VERIFIED      FIXED   \n",
       "1    3854     JDT        UI  aeschli  VERIFIED      FIXED   \n",
       "2    4188     JDT        UI  aeschli  VERIFIED      FIXED   \n",
       "3    5115     JDT     Debug  aeschli  VERIFIED      FIXED   \n",
       "4    5820     JDT        UI  aeschli  VERIFIED      FIXED   \n",
       "\n",
       "                                             Summary              Changed  \\\n",
       "0  Package Viewer: order resource folders before ...  2002-01-17 07:28:04   \n",
       "1             Wrong execution's classpath. (1GEY0W0)  2002-01-18 04:02:11   \n",
       "2                     type hierachy - typo (1GJW2XJ)  2002-01-28 03:12:37   \n",
       "3  Workspace source locator fails with mulitple p...  2001-11-13 10:11:09   \n",
       "4    Close all editors brings up hierarchy of object  2001-11-20 16:22:35   \n",
       "\n",
       "   Assignee Real Name Classification    ...     \\\n",
       "0  Martin Aeschlimann        Eclipse    ...      \n",
       "1  Martin Aeschlimann        Eclipse    ...      \n",
       "2  Martin Aeschlimann        Eclipse    ...      \n",
       "3  Martin Aeschlimann        Eclipse    ...      \n",
       "4  Martin Aeschlimann        Eclipse    ...      \n",
       "\n",
       "                                           Summary.1 Tags Target Milestone  \\\n",
       "0  Package Viewer: order resource folders before ...  NaN              ---   \n",
       "1             Wrong execution's classpath. (1GEY0W0)  NaN              ---   \n",
       "2                     type hierachy - typo (1GJW2XJ)  NaN              ---   \n",
       "3  Workspace source locator fails with mulitple p...  NaN              ---   \n",
       "4    Close all editors brings up hierarchy of object  NaN              ---   \n",
       "\n",
       "   URL Version Votes Whiteboard Alias Count    Weight  \n",
       "0  NaN     2.0     0        NaN   NaN  4019  2.488181  \n",
       "1  NaN     2.0     0        NaN   NaN  4019  2.488181  \n",
       "2  NaN     2.0     0        NaN   NaN  4019  2.488181  \n",
       "3  NaN     2.0     0        NaN   NaN  2928  3.415301  \n",
       "4  NaN     2.0     0        NaN   NaN  4019  2.488181  \n",
       "\n",
       "[5 rows x 32 columns]"
      ]
     },
     "execution_count": 31,
     "metadata": {},
     "output_type": "execute_result"
    }
   ],
   "source": [
    "df['Count'] = df.groupby(['Component'])['Bug ID'].transform('count')\n",
    "df['Weight'] = df.shape[0] / df['Count']\n",
    "df.head()"
   ]
  },
  {
   "cell_type": "markdown",
   "metadata": {},
   "source": [
    "Creating labels column to pandas DataFrame in order to keep components as integer values since most machine learning algorithms don't work well with strings and characters."
   ]
  },
  {
   "cell_type": "code",
   "execution_count": 32,
   "metadata": {
    "collapsed": false
   },
   "outputs": [],
   "source": [
    "df['labels'] = pd.Series(np.zeros(len(df)), index=df.index)\n",
    "for index, row in df.iterrows():\n",
    "    if(df.loc[index,'Component'] == \"UI\"):\n",
    "        df.loc[index,'labels'] = 0\n",
    "    elif(df.loc[index,'Component'] == \"Debug\"):\n",
    "        df.loc[index,'labels'] = 1\n",
    "    elif(df.loc[index,'Component'] == \"Text\"):\n",
    "        df.loc[index,'labels'] = 2\n",
    "    elif(df.loc[index,'Component'] == \"Ant\"):\n",
    "        df.loc[index,'labels'] = 3\n",
    "    elif(df.loc[index,'Component'] == \"Core\"):\n",
    "        df.loc[index,'labels'] = 4\n",
    "    else:\n",
    "        df.loc[index,'labels'] = 5"
   ]
  },
  {
   "cell_type": "markdown",
   "metadata": {},
   "source": [
    "Since we're going to consider only the five most common components we need to remove undesired labels. After that, we can check the new components count."
   ]
  },
  {
   "cell_type": "code",
   "execution_count": 33,
   "metadata": {
    "collapsed": false,
    "scrolled": true
   },
   "outputs": [
    {
     "data": {
      "text/plain": [
       "<matplotlib.axes._subplots.AxesSubplot at 0xa9ada6a0>"
      ]
     },
     "execution_count": 33,
     "metadata": {},
     "output_type": "execute_result"
    },
    {
     "data": {
      "image/png": "[encoded data removed]",
      "text/plain": [
       "<matplotlib.figure.Figure at 0xa945e978>"
      ]
     },
     "metadata": {},
     "output_type": "display_data"
    }
   ],
   "source": [
    "df = df[df['labels'] != 5]\n",
    "sns.countplot(x='Component', data=df)"
   ]
  },
  {
   "cell_type": "markdown",
   "metadata": {},
   "source": [
    "The training data is still unbalanced so we need to balance using the criteria of the same number of samples for each class. "
   ]
  },
  {
   "cell_type": "code",
   "execution_count": 34,
   "metadata": {
    "collapsed": false
   },
   "outputs": [],
   "source": [
    "balanced_df = pd.DataFrame()\n",
    "for i in df['labels'].unique():\n",
    "    balanced_df = balanced_df.append(df[df['labels'] == i].iloc[:490],ignore_index=True)"
   ]
  },
  {
   "cell_type": "markdown",
   "metadata": {},
   "source": [
    "Returning a random sample of dataframe created."
   ]
  },
  {
   "cell_type": "code",
   "execution_count": 35,
   "metadata": {
    "collapsed": false,
    "scrolled": false
   },
   "outputs": [
    {
     "data": {
      "text/plain": [
       "<matplotlib.axes._subplots.AxesSubplot at 0xa19a908>"
      ]
     },
     "execution_count": 35,
     "metadata": {},
     "output_type": "execute_result"
    },
    {
     "data": {
      "image/png": "[encoded data removed]",
      "text/plain": [
       "<matplotlib.figure.Figure at 0xa1950f0>"
      ]
     },
     "metadata": {},
     "output_type": "display_data"
    }
   ],
   "source": [
    "df = balanced_df.sample(len(balanced_df), replace=True)\n",
    "sns.countplot(x='Component', data=df)"
   ]
  },
  {
   "cell_type": "markdown",
   "metadata": {},
   "source": [
    "# Approach 1: Naive Bayes step by step implementation\n",
    "CountVectorizer is responsible for occurrences counting of each word per sample (Bag of Words).\n",
    "Token pattern allows in this case choose only words with at least two characters while lowercase set to True transforms all the words to lowercase pattern.\n",
    "\n",
    "Stop words is set to avoid common english words that usually don't help on text analysis while strip() function takes care of cleaning strings from unnecessary whitespaces."
   ]
  },
  {
   "cell_type": "code",
   "execution_count": 36,
   "metadata": {
    "collapsed": false
   },
   "outputs": [],
   "source": [
    "from sklearn.feature_extraction.text import CountVectorizer\n",
    "count_vect = CountVectorizer(\n",
    "    token_pattern=r\"(?u)\\b[a-zA-Z]\\w+\\b\",\n",
    "    stop_words='english',lowercase=True, ngram_range=(1, 2))\n",
    "data = []\n",
    "for i,row in df.iterrows():\n",
    "    data.append(row['Summary'])"
   ]
  },
  {
   "cell_type": "markdown",
   "metadata": {},
   "source": [
    "Tf means term-frequency while tf-idf means term-frequency times inverse document-frequency. The goal of using tf-idf instead of the raw frequencies of occurrence of a token in a given document is to scale down the impact of tokens that occur very frequently in a given corpus and that are hence empirically less informative than features that occur in a small fraction of the training corpus."
   ]
  },
  {
   "cell_type": "code",
   "execution_count": 37,
   "metadata": {
    "collapsed": false,
    "scrolled": false
   },
   "outputs": [],
   "source": [
    "from sklearn.feature_extraction.text import TfidfTransformer\n",
    "X_train_counts = count_vect.fit_transform(data)\n",
    "#from pprint import pprint\n",
    "#pprint(count_vect.vocabulary_)\n",
    "\n",
    "# Comment lines below if you don't want to consider idf transformer\n",
    "tfidf_transformer = TfidfTransformer(norm=\"l2\",use_idf=True)\n",
    "X_tfidf = tfidf_transformer.fit_transform(X_train_counts)"
   ]
  },
  {
   "cell_type": "markdown",
   "metadata": {},
   "source": [
    "Visualize a Bag of Words using a graph is difficult since each of the sentences gets represented in a high dimensional space of length equal to the vocabulary. But we can still represent this by a 2D graph using the dimension reduction, for example a PCA with two components.\n",
    "\n",
    "K-means helps finding the cluster centers for each label bag of words in order to improve visualization.\n",
    "The purpose of this algorithm is to use euclidean distance to cluster data according to the number of clusters required.\n",
    "\n",
    "Ps: todense() function takes care of transforming bag of words on a dense matrix since we had a sparse matrix before."
   ]
  },
  {
   "cell_type": "code",
   "execution_count": 38,
   "metadata": {
    "collapsed": false,
    "scrolled": false
   },
   "outputs": [
    {
     "data": {
      "text/plain": [
       "<matplotlib.collections.PathCollection at 0xdf658d0>"
      ]
     },
     "execution_count": 38,
     "metadata": {},
     "output_type": "execute_result"
    },
    {
     "data": {
      "image/png": "[encoded data removed]",
      "text/plain": [
       "<matplotlib.figure.Figure at 0xdf65780>"
      ]
     },
     "metadata": {},
     "output_type": "display_data"
    }
   ],
   "source": [
    "from sklearn.decomposition import PCA\n",
    "pca = PCA(n_components=2).fit(X_tfidf.todense())\n",
    "data2D = pca.transform(X_tfidf.todense())\n",
    "df['PCA-1'] = pd.Series(np.zeros(len(df)), index=df.index)\n",
    "df['PCA-2'] = pd.Series(np.zeros(len(df)), index=df.index)\n",
    "df.loc[:,'PCA-1'] = data2D[:,0]\n",
    "df.loc[:,'PCA-2'] = data2D[:,1]\n",
    "sns.lmplot(x=\"PCA-1\", y=\"PCA-2\", hue=\"labels\", data=df, fit_reg=False)\n",
    "\n",
    "from sklearn.cluster import KMeans\n",
    "kmeans = KMeans(n_clusters=5).fit(X_tfidf.todense())\n",
    "centers2D = pca.transform(kmeans.cluster_centers_)\n",
    "plt.hold(True)\n",
    "plt.scatter(centers2D[:,0], centers2D[:,1], \n",
    "            marker='x', s=200, linewidths=3, c='r')"
   ]
  },
  {
   "cell_type": "markdown",
   "metadata": {},
   "source": [
    "The multinomial Naive Bayes classifier is suitable for classification with multinomial model. We already have word counts for text classification and labels of each component so let's try to model using this approach. In this case, we're going to consider 80% of entire data as training data and 20% as evaluation data."
   ]
  },
  {
   "cell_type": "code",
   "execution_count": 39,
   "metadata": {
    "collapsed": false
   },
   "outputs": [],
   "source": [
    "from sklearn.naive_bayes import MultinomialNB\n",
    "\n",
    "X_train_tfidf = X_tfidf[:int(X_tfidf.shape[0] * 0.8)]\n",
    "labels_train = df['labels'][:int(len(df['labels']) * 0.8)]\n",
    "clf = MultinomialNB().fit(X_train_tfidf, labels_train)\n",
    "labels_test = df['labels'][int(len(df['labels']) * 0.8):]\n",
    "X_test_tfidf = X_tfidf[int(X_tfidf.shape[0] * 0.8):]"
   ]
  },
  {
   "cell_type": "markdown",
   "metadata": {},
   "source": [
    "Checking the model accuracy:"
   ]
  },
  {
   "cell_type": "code",
   "execution_count": 40,
   "metadata": {
    "collapsed": false
   },
   "outputs": [
    {
     "name": "stdout",
     "output_type": "stream",
     "text": [
      "\n",
      "Accuracy Training: 0.861224489796\n"
     ]
    }
   ],
   "source": [
    "predicted = clf.predict(X_test_tfidf)\n",
    "print(\"\\nAccuracy Training: \" + str(np.mean(predicted == labels_test)))"
   ]
  },
  {
   "cell_type": "markdown",
   "metadata": {},
   "source": [
    "## Approach 2: Naive Bayes RFECV\n",
    "### Wrapper using Cross-Validation and feature elimination"
   ]
  },
  {
   "cell_type": "code",
   "execution_count": 41,
   "metadata": {
    "collapsed": false
   },
   "outputs": [
    {
     "name": "stdout",
     "output_type": "stream",
     "text": [
      "Original number of features : 8637\n",
      "Optimal number of features : 8629\n",
      "\n",
      "Accuracy Training: 0.867346938776\n"
     ]
    }
   ],
   "source": [
    "from sklearn.feature_selection import RFECV\n",
    "# Create the RFECV object\n",
    "nb = MultinomialNB(alpha=0.5)\n",
    "\n",
    "# The \"accuracy\" scoring is proportional to the number of correct classifications\n",
    "rfecv = RFECV(estimator=nb, step=1, cv=5, scoring='accuracy')\n",
    "print(\"Original number of features : %d\" % X_train_tfidf.shape[1])\n",
    "rfecv.fit(X_train_tfidf, labels_train)\n",
    "X_rfecv=rfecv.transform(X_train_tfidf)\n",
    "\n",
    "print(\"Optimal number of features : %d\" % rfecv.n_features_)\n",
    "\n",
    "# train classifier\n",
    "clf = MultinomialNB(alpha=0.5).fit(X_rfecv, labels_train)\n",
    "\n",
    "# test clf on test data\n",
    "X_test_rfecv = rfecv.transform(X_test_tfidf)\n",
    "\n",
    "predicted = clf.predict(X_test_rfecv) \n",
    "\n",
    "print(\"\\nAccuracy Training: \" + str(np.mean(predicted == labels_test)))"
   ]
  },
  {
   "cell_type": "markdown",
   "metadata": {},
   "source": [
    "## Approach 3: SVM linear RFECV\n",
    "### Wrapper using Cross-Validation and feature elimination"
   ]
  },
  {
   "cell_type": "code",
   "execution_count": null,
   "metadata": {
    "collapsed": false
   },
   "outputs": [],
   "source": [
    "from sklearn.svm import SVC\n",
    "svm = SVC(kernel=\"linear\")\n",
    "\n",
    "# The \"accuracy\" scoring is proportional to the number of correct classifications\n",
    "rfecv = RFECV(estimator=svm, step=1, cv=5, scoring='accuracy')\n",
    "print(\"Original number of features : %d\" % X_train_tfidf.shape[1])\n",
    "rfecv.fit(X_train_tfidf, labels_train)\n",
    "X_rfecv=rfecv.transform(X_train_tfidf)\n",
    "\n",
    "print(\"Optimal number of features : %d\" % rfecv.n_features_)\n",
    "\n",
    "# train classifier\n",
    "clf = svm.fit(X_rfecv, labels_train)\n",
    "\n",
    "# test clf on test data\n",
    "X_test_rfecv = rfecv.transform(X_test_tfidf)\n",
    "\n",
    "predicted = clf.predict(X_test_rfecv) \n",
    "\n",
    "print(\"\\nAccuracy Training: \" + str(np.mean(predicted == labels_test)))"
   ]
  },
  {
   "cell_type": "markdown",
   "metadata": {},
   "source": [
    "## Approach 4: Pipeline implementation\n",
    "### Using parameters tuning and cross-validation\n",
    "Using a Pipeline simplifies the proccess and instead of manually running through each of these steps, and then tediously repeating them on the test set, you get a nice, declarative interface where it's easy to see the entire model. This example extracts the bag of words, tokenizes them, counts the tokens, and then performs a tf–idf transformation before passing the resulting features along to different classifiers.\n",
    "\n",
    "The purpose of the parameters is to assemble several steps that can be evaluated together while setting different values (Grid Search). As result, we can obtain the best model parameters."
   ]
  },
  {
   "cell_type": "code",
   "execution_count": 43,
   "metadata": {
    "collapsed": false
   },
   "outputs": [
    {
     "data": {
      "text/plain": [
       "GridSearchCV(cv=5, error_score='raise',\n",
       "       estimator=Pipeline(steps=[('vect', CountVectorizer(analyzer='word', binary=False, decode_error='strict',\n",
       "        dtype=<class 'numpy.int64'>, encoding='utf-8', input='content',\n",
       "        lowercase=True, max_df=1.0, max_features=None, min_df=1,\n",
       "        ngram_range=(1, 1), preprocessor=None, stop_words=None,\n",
       "        strip...,\n",
       "  max_iter=-1, probability=False, random_state=None, shrinking=True,\n",
       "  tol=0.001, verbose=False))]),\n",
       "       fit_params={}, iid=True, n_jobs=-1,\n",
       "       param_grid=[{'tfidf__use_idf': (True, False), 'tfidf': [TfidfTransformer(norm='l2', smooth_idf=True, sublinear_tf=False, use_idf=True)], 'classifier__C': [1, 10, 100, 1000], 'classifier': [SVC(C=1.0, cache_size=200, class_weight=None, coef0=0.0,\n",
       "  decision_function_shape=None, degree=3, gamma='auto'...r=None, vocabulary=None)], 'vect__ngram_range': [(1, 1), (1, 2)], 'vect__max_df': (0.5, 0.75, 1.0)}],\n",
       "       pre_dispatch='2*n_jobs', refit=True, scoring=None, verbose=0)"
      ]
     },
     "execution_count": 43,
     "metadata": {},
     "output_type": "execute_result"
    }
   ],
   "source": [
    "from sklearn.linear_model import SGDClassifier\n",
    "from sklearn.pipeline import Pipeline\n",
    "from sklearn.grid_search import GridSearchCV\n",
    "from sklearn.svm import SVC\n",
    "from sklearn.linear_model import LogisticRegression\n",
    "from sklearn.ensemble import RandomForestClassifier\n",
    "from sklearn.model_selection import train_test_split\n",
    "\n",
    "X_train, X_test, y_train, y_test = train_test_split(df['Summary'], df['labels'], test_size=0.2)\n",
    "\n",
    "text_clf = Pipeline([('vect', CountVectorizer()),\n",
    "                     ('tfidf', TfidfTransformer()),\n",
    "                    ('classifier',SVC())\n",
    "                    ])\n",
    "\n",
    "parameters = [\n",
    " {'classifier': [SVC()], 'vect': [CountVectorizer(token_pattern=r\"(?u)\\b[a-zA-Z]\\w+\\b\",stop_words='english',lowercase=True)],\n",
    " 'tfidf': [TfidfTransformer()],\n",
    " 'classifier__gamma': [0.001, 0.01, 0.1],\n",
    " 'classifier__C': [1, 10, 100, 1000],\n",
    " 'classifier__kernel': [\"linear\",\"rbf\"],\n",
    " 'vect__ngram_range': [(1, 1), (1, 2)],\n",
    " 'vect__max_df': (0.5, 0.75, 1.0),\n",
    " 'tfidf__use_idf': (True, False),\n",
    " 'tfidf__norm': ('l1', 'l2')\n",
    " },\n",
    " {'classifier': [MultinomialNB()],\n",
    " 'vect': [CountVectorizer(token_pattern=r\"(?u)\\b[a-zA-Z]\\w+\\b\",stop_words='english',lowercase=True)],\n",
    " 'tfidf': [TfidfTransformer()],\n",
    " 'classifier__alpha': [0.1, 0.2, 0.3, 0.5, 0.6, 0.7, 1],\n",
    " 'classifier__fit_prior': [False, True],\n",
    " 'vect__ngram_range': [(1, 1), (1, 2)],\n",
    " 'vect__max_df': (0.5, 0.75, 1.0),\n",
    " 'tfidf__use_idf': (True, False),\n",
    " 'tfidf__norm': ('l1', 'l2')\n",
    " },\n",
    " {'classifier': [LogisticRegression()],\n",
    " 'vect': [CountVectorizer(token_pattern=r\"(?u)\\b[a-zA-Z]\\w+\\b\",stop_words='english',lowercase=True)],\n",
    " 'tfidf': [TfidfTransformer()],\n",
    " 'classifier__C': [0.001, 0.01, 0.1, 1, 10],\n",
    " 'vect__ngram_range': [(1, 1), (1, 2)],\n",
    " 'vect__max_df': (0.5, 0.75, 1.0),\n",
    " 'tfidf__use_idf': (True, False),\n",
    " 'tfidf__norm': ('l1', 'l2')   \n",
    " }\n",
    "]\n",
    "\n",
    "grid = GridSearchCV(text_clf, parameters, n_jobs=-1,cv=5)\n",
    "grid.fit(X_train, y_train)"
   ]
  },
  {
   "cell_type": "markdown",
   "metadata": {},
   "source": [
    "Checking the new model accuracy:"
   ]
  },
  {
   "cell_type": "code",
   "execution_count": 44,
   "metadata": {
    "collapsed": false
   },
   "outputs": [
    {
     "name": "stdout",
     "output_type": "stream",
     "text": [
      "Best params:\n",
      "{'tfidf__use_idf': True, 'tfidf__norm': 'l1', 'tfidf': TfidfTransformer(norm='l1', smooth_idf=True, sublinear_tf=False, use_idf=True), 'classifier__C': 100, 'classifier': SVC(C=100, cache_size=200, class_weight=None, coef0=0.0,\n",
      "  decision_function_shape=None, degree=3, gamma=0.1, kernel='rbf',\n",
      "  max_iter=-1, probability=False, random_state=None, shrinking=True,\n",
      "  tol=0.001, verbose=False), 'vect__ngram_range': (1, 2), 'vect': CountVectorizer(analyzer='word', binary=False, decode_error='strict',\n",
      "        dtype=<class 'numpy.int64'>, encoding='utf-8', input='content',\n",
      "        lowercase=True, max_df=0.5, max_features=None, min_df=1,\n",
      "        ngram_range=(1, 2), preprocessor=None, stop_words='english',\n",
      "        strip_accents=None, token_pattern='(?u)\\\\b[a-zA-Z]\\\\w+\\\\b',\n",
      "        tokenizer=None, vocabulary=None), 'classifier__kernel': 'rbf', 'classifier__gamma': 0.1, 'vect__max_df': 0.5}\n",
      "\n",
      "Best cross-validation score: 0.83\n",
      "Test-set score: 0.88\n"
     ]
    }
   ],
   "source": [
    "print(\"Best params:\\n{}\\n\".format(grid.best_params_))\n",
    "print(\"Best cross-validation score: {:.2f}\".format(grid.best_score_))\n",
    "print(\"Test-set score: {:.2f}\".format(grid.score(X_test, y_test)))"
   ]
  },
  {
   "cell_type": "code",
   "execution_count": null,
   "metadata": {
    "collapsed": true
   },
   "outputs": [],
   "source": []
  }
 ],
 "metadata": {
  "kernelspec": {
   "display_name": "Python 3",
   "language": "python",
   "name": "python3"
  },
  "language_info": {
   "codemirror_mode": {
    "name": "ipython",
    "version": 3
   },
   "file_extension": ".py",
   "mimetype": "text/x-python",
   "name": "python",
   "nbconvert_exporter": "python",
   "pygments_lexer": "ipython3",
   "version": "3.5.0"
  }
 },
 "nbformat": 4,
 "nbformat_minor": 0
}
