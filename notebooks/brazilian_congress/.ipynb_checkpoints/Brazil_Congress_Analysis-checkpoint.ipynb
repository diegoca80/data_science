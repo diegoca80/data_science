{
 "cells": [
  {
   "cell_type": "markdown",
   "metadata": {},
   "source": [
    "# Brazilian Congress proposals analysis"
   ]
  },
  {
   "cell_type": "markdown",
   "metadata": {},
   "source": [
    "## About me\n",
    "<table cellspacing=\"0\" cellpadding=\"0\">\n",
    "  <tr>\n",
    "    <td>\n",
    "        Diego Alves <br />\n",
    "        Software Engineer<br />\n",
    "        <link rel=\"stylesheet\" href=\"//maxcdn.bootstrapcdn.com/font-awesome/4.3.0/css/font-awesome.min.css\">\n",
    "        <i class=\"fa fa-google\"></i> &nbsp; <a href=\"mailto:diegocardalves@gmail.com\">Email</a><br />\n",
    "        <i class=\"fa fa-linkedin\"></i> &nbsp; <a href=\"https://www.linkedin.com/in/diegocardosoalves\">LinkedIn</a><br />\n",
    "        <i class=\"fa fa-github fa-lg\"></i> &nbsp; <a href=\"https://github.com/diegoca80/datascience\">Github</a><br />\n",
    "    </td>\n",
    "    <td>\n",
    "        <a href=\"https://www.linkedin.com/in/diegocardosoalves\" target=\"_blank\"><img src=\"http://i67.tinypic.com/1jn605.png\" border=\"0\" alt=\"Diego Alves\"></a>\n",
    "    </td>\n",
    "  </tr>\n",
    "</table>"
   ]
  },
  {
   "cell_type": "markdown",
   "metadata": {},
   "source": [
    "### Imports and configurations"
   ]
  },
  {
   "cell_type": "code",
   "execution_count": null,
   "metadata": {
    "collapsed": true
   },
   "outputs": [],
   "source": [
    "import pandas as pd\n",
    "%matplotlib inline\n",
    "pd.set_option(\"max_rows\", 10)\n",
    "pd.set_option(\"max_columns\", 100)\n",
    "from seaborn import set_style\n",
    "set_style(\"darkgrid\")\n",
    "import seaborn as sns\n",
    "import matplotlib.pyplot as plt\n",
    "import numpy as np"
   ]
  },
  {
   "cell_type": "markdown",
   "metadata": {},
   "source": [
    "### Exploring data"
   ]
  },
  {
   "cell_type": "code",
   "execution_count": null,
   "metadata": {
    "collapsed": false
   },
   "outputs": [],
   "source": [
    "data = pd.read_csv(\"allProp.csv\", na_values=[\"\\n\"])\n",
    "data.head()"
   ]
  },
  {
   "cell_type": "code",
   "execution_count": null,
   "metadata": {
    "collapsed": false
   },
   "outputs": [],
   "source": [
    "# Checking if we have null values and type columns\n",
    "data.info()"
   ]
  },
  {
   "cell_type": "code",
   "execution_count": null,
   "metadata": {
    "collapsed": false
   },
   "outputs": [],
   "source": [
    "data.describe()"
   ]
  },
  {
   "cell_type": "markdown",
   "metadata": {},
   "source": [
    "#### As we can see above, the mean() for qtdAutores is around 2 which is the mean of authors responsible for proposals.\n",
    "#### We can also check the top 10 distribution in order to enumerate the main proposal authors."
   ]
  },
  {
   "cell_type": "code",
   "execution_count": null,
   "metadata": {
    "collapsed": false
   },
   "outputs": [],
   "source": [
    "%%javascript\n",
    "IPython.OutputArea.auto_scroll_threshold = 9999;"
   ]
  },
  {
   "cell_type": "code",
   "execution_count": null,
   "metadata": {
    "collapsed": false,
    "scrolled": true
   },
   "outputs": [],
   "source": [
    "fig, axes = plt.subplots(data['ano'].nunique(),1, figsize=(8,100))\n",
    "for (year, group), ax in zip(data.groupby(\"ano\"), axes.flatten()):\n",
    "    group.groupby([\"autor1.txtNomeAutor\"]).size().nlargest(10).plot(kind=\"barh\",ax=ax,title=year)"
   ]
  },
  {
   "cell_type": "markdown",
   "metadata": {},
   "source": [
    "\n",
    "### We can see that both \"Comissão de Ciência e Tecnologia, Comunicação e Informática\", \"Comissão de Relações Exteriores e de Defesa Nacional\" and \"Poder Executivo\" are frequently creating new proposals over the years. However, these authors are a group of members in Brazil so we could treat as outliers or only ignore. "
   ]
  },
  {
   "cell_type": "markdown",
   "metadata": {},
   "source": [
    "## Let's do the same analysis for political party since Brazilian people usually choose candidates based on their representation."
   ]
  },
  {
   "cell_type": "code",
   "execution_count": null,
   "metadata": {
    "collapsed": false,
    "scrolled": true
   },
   "outputs": [],
   "source": [
    "fig, axes = plt.subplots(data['ano'].nunique(),1, figsize=(8,100))\n",
    "for (year, group), ax in zip(data.groupby(\"ano\"), axes.flatten()):\n",
    "    group.groupby([\"autor1.txtSiglaPartido\"]).size().nlargest(10).plot(kind=\"barh\",ax=ax,title=year)"
   ]
  },
  {
   "cell_type": "markdown",
   "metadata": {},
   "source": [
    "## Let's check the top 5 representation over the years using entire data.\n",
    "### PS: Blank value is not null. It belongs to the organizations cited previously."
   ]
  },
  {
   "cell_type": "code",
   "execution_count": null,
   "metadata": {
    "collapsed": false
   },
   "outputs": [],
   "source": [
    "data.groupby(\"autor1.txtSiglaPartido\").size().nlargest(10).plot(kind=\"barh\", figsize=(8,8))"
   ]
  },
  {
   "cell_type": "markdown",
   "metadata": {},
   "source": [
    "## As we have these information organized by year but a lot of different political parties, let's show a time series of the proposals number by the 3 most representative."
   ]
  },
  {
   "cell_type": "code",
   "execution_count": null,
   "metadata": {
    "collapsed": false
   },
   "outputs": [],
   "source": [
    "# Creating new column with size of group by 2 features(year,political party)\n",
    "data['groupby_ano_partido'] = data.groupby([\"ano\",\"autor1.txtSiglaPartido\"])['ano'].transform('size')\n",
    "# Removing extra white spaces on strings\n",
    "data['autor1.txtSiglaPartido'] = data[\"autor1.txtSiglaPartido\"].str.strip()\n",
    "data = data[(data[\"autor1.txtSiglaPartido\"] == \"PT\") |\n",
    "     (data[\"autor1.txtSiglaPartido\"] == \"PSDB\") |\n",
    "     (data[\"autor1.txtSiglaPartido\"] == \"PMDB\")]\n",
    "data.groupby([\"ano\",\"autor1.txtSiglaPartido\"]).mean().unstack(\"autor1.txtSiglaPartido\")[\"groupby_ano_partido\"].plot(figsize=(15,7),xticks=data['ano'])"
   ]
  },
  {
   "cell_type": "markdown",
   "metadata": {},
   "source": [
    "## Simple observations:\n",
    "- > In fact, we have the majority number of proposals created by PMDB and PT during the history data but we can't assume anything now since we don't know the number of chairs occuped by each party among the years.\n",
    "- > We can note that the proposals graph behavior is proportional in almost all years for both political parties (if one increases the other one increases, if one decreases the other one decreases). \n",
    "\n",
    "## Interesting observations:\n",
    "- > Congress election's in Brazil occur every four years starting at 1990. If you pay attention to the graph data corresponding to elections years, there's a small number of proposals maybe because of the busy politicians agenda trying the reelection or the distrust of having their proposals approved during the last government year.\n",
    "- > The highest number of proposals occur one year after each election and after that decreases over the years until the next election.\n",
    "- > In 2015, we can noticed a high variance between the political parties that didn't exist in the past. Maybe this could be explained because of the Brazil crysis and recurrent protests of people and other politicians (See <a href=\"https://en.wikipedia.org/wiki/2015%E2%80%9316_protests_in_Brazil\">link</a>). Since the president was Dilma from PT party, the opposition tried to impose new proposals for improvement.\n"
   ]
  },
  {
   "cell_type": "markdown",
   "metadata": {},
   "source": [
    "# Next steps:\n",
    "## 1) Check other features didn't covered on this notebook.\n",
    "## 2) Analyse approved proposals against non-approvals.\n",
    "## 3) Text analysis with word clouds and clustering algorithms."
   ]
  }
 ],
 "metadata": {
  "kernelspec": {
   "display_name": "Python 3",
   "language": "python",
   "name": "python3"
  },
  "language_info": {
   "codemirror_mode": {
    "name": "ipython",
    "version": 3
   },
   "file_extension": ".py",
   "mimetype": "text/x-python",
   "name": "python",
   "nbconvert_exporter": "python",
   "pygments_lexer": "ipython3",
   "version": "3.5.2"
  }
 },
 "nbformat": 4,
 "nbformat_minor": 1
}
